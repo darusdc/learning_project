{
 "cells": [
  {
   "cell_type": "code",
   "execution_count": 1,
   "metadata": {},
   "outputs": [],
   "source": [
    "import requests\n",
    "import pandas as pd\n",
    "from functools import reduce"
   ]
  },
  {
   "cell_type": "code",
   "execution_count": 2,
   "metadata": {},
   "outputs": [
    {
     "data": {
      "text/plain": [
       "[{'id': 1,\n",
       "  'name': 'Leanne Graham',\n",
       "  'username': 'Bret',\n",
       "  'email': 'Sincere@april.biz',\n",
       "  'address': {'street': 'Kulas Light',\n",
       "   'suite': 'Apt. 556',\n",
       "   'city': 'Gwenborough',\n",
       "   'zipcode': '92998-3874',\n",
       "   'geo': {'lat': '-37.3159', 'lng': '81.1496'}},\n",
       "  'phone': '1-770-736-8031 x56442',\n",
       "  'website': 'hildegard.org',\n",
       "  'company': {'name': 'Romaguera-Crona',\n",
       "   'catchPhrase': 'Multi-layered client-server neural-net',\n",
       "   'bs': 'harness real-time e-markets'}},\n",
       " {'id': 2,\n",
       "  'name': 'Ervin Howell',\n",
       "  'username': 'Antonette',\n",
       "  'email': 'Shanna@melissa.tv',\n",
       "  'address': {'street': 'Victor Plains',\n",
       "   'suite': 'Suite 879',\n",
       "   'city': 'Wisokyburgh',\n",
       "   'zipcode': '90566-7771',\n",
       "   'geo': {'lat': '-43.9509', 'lng': '-34.4618'}},\n",
       "  'phone': '010-692-6593 x09125',\n",
       "  'website': 'anastasia.net',\n",
       "  'company': {'name': 'Deckow-Crist',\n",
       "   'catchPhrase': 'Proactive didactic contingency',\n",
       "   'bs': 'synergize scalable supply-chains'}},\n",
       " {'id': 3,\n",
       "  'name': 'Clementine Bauch',\n",
       "  'username': 'Samantha',\n",
       "  'email': 'Nathan@yesenia.net',\n",
       "  'address': {'street': 'Douglas Extension',\n",
       "   'suite': 'Suite 847',\n",
       "   'city': 'McKenziehaven',\n",
       "   'zipcode': '59590-4157',\n",
       "   'geo': {'lat': '-68.6102', 'lng': '-47.0653'}},\n",
       "  'phone': '1-463-123-4447',\n",
       "  'website': 'ramiro.info',\n",
       "  'company': {'name': 'Romaguera-Jacobson',\n",
       "   'catchPhrase': 'Face to face bifurcated interface',\n",
       "   'bs': 'e-enable strategic applications'}},\n",
       " {'id': 4,\n",
       "  'name': 'Patricia Lebsack',\n",
       "  'username': 'Karianne',\n",
       "  'email': 'Julianne.OConner@kory.org',\n",
       "  'address': {'street': 'Hoeger Mall',\n",
       "   'suite': 'Apt. 692',\n",
       "   'city': 'South Elvis',\n",
       "   'zipcode': '53919-4257',\n",
       "   'geo': {'lat': '29.4572', 'lng': '-164.2990'}},\n",
       "  'phone': '493-170-9623 x156',\n",
       "  'website': 'kale.biz',\n",
       "  'company': {'name': 'Robel-Corkery',\n",
       "   'catchPhrase': 'Multi-tiered zero tolerance productivity',\n",
       "   'bs': 'transition cutting-edge web services'}},\n",
       " {'id': 5,\n",
       "  'name': 'Chelsey Dietrich',\n",
       "  'username': 'Kamren',\n",
       "  'email': 'Lucio_Hettinger@annie.ca',\n",
       "  'address': {'street': 'Skiles Walks',\n",
       "   'suite': 'Suite 351',\n",
       "   'city': 'Roscoeview',\n",
       "   'zipcode': '33263',\n",
       "   'geo': {'lat': '-31.8129', 'lng': '62.5342'}},\n",
       "  'phone': '(254)954-1289',\n",
       "  'website': 'demarco.info',\n",
       "  'company': {'name': 'Keebler LLC',\n",
       "   'catchPhrase': 'User-centric fault-tolerant solution',\n",
       "   'bs': 'revolutionize end-to-end systems'}},\n",
       " {'id': 6,\n",
       "  'name': 'Mrs. Dennis Schulist',\n",
       "  'username': 'Leopoldo_Corkery',\n",
       "  'email': 'Karley_Dach@jasper.info',\n",
       "  'address': {'street': 'Norberto Crossing',\n",
       "   'suite': 'Apt. 950',\n",
       "   'city': 'South Christy',\n",
       "   'zipcode': '23505-1337',\n",
       "   'geo': {'lat': '-71.4197', 'lng': '71.7478'}},\n",
       "  'phone': '1-477-935-8478 x6430',\n",
       "  'website': 'ola.org',\n",
       "  'company': {'name': 'Considine-Lockman',\n",
       "   'catchPhrase': 'Synchronised bottom-line interface',\n",
       "   'bs': 'e-enable innovative applications'}},\n",
       " {'id': 7,\n",
       "  'name': 'Kurtis Weissnat',\n",
       "  'username': 'Elwyn.Skiles',\n",
       "  'email': 'Telly.Hoeger@billy.biz',\n",
       "  'address': {'street': 'Rex Trail',\n",
       "   'suite': 'Suite 280',\n",
       "   'city': 'Howemouth',\n",
       "   'zipcode': '58804-1099',\n",
       "   'geo': {'lat': '24.8918', 'lng': '21.8984'}},\n",
       "  'phone': '210.067.6132',\n",
       "  'website': 'elvis.io',\n",
       "  'company': {'name': 'Johns Group',\n",
       "   'catchPhrase': 'Configurable multimedia task-force',\n",
       "   'bs': 'generate enterprise e-tailers'}},\n",
       " {'id': 8,\n",
       "  'name': 'Nicholas Runolfsdottir V',\n",
       "  'username': 'Maxime_Nienow',\n",
       "  'email': 'Sherwood@rosamond.me',\n",
       "  'address': {'street': 'Ellsworth Summit',\n",
       "   'suite': 'Suite 729',\n",
       "   'city': 'Aliyaview',\n",
       "   'zipcode': '45169',\n",
       "   'geo': {'lat': '-14.3990', 'lng': '-120.7677'}},\n",
       "  'phone': '586.493.6943 x140',\n",
       "  'website': 'jacynthe.com',\n",
       "  'company': {'name': 'Abernathy Group',\n",
       "   'catchPhrase': 'Implemented secondary concept',\n",
       "   'bs': 'e-enable extensible e-tailers'}},\n",
       " {'id': 9,\n",
       "  'name': 'Glenna Reichert',\n",
       "  'username': 'Delphine',\n",
       "  'email': 'Chaim_McDermott@dana.io',\n",
       "  'address': {'street': 'Dayna Park',\n",
       "   'suite': 'Suite 449',\n",
       "   'city': 'Bartholomebury',\n",
       "   'zipcode': '76495-3109',\n",
       "   'geo': {'lat': '24.6463', 'lng': '-168.8889'}},\n",
       "  'phone': '(775)976-6794 x41206',\n",
       "  'website': 'conrad.com',\n",
       "  'company': {'name': 'Yost and Sons',\n",
       "   'catchPhrase': 'Switchable contextually-based project',\n",
       "   'bs': 'aggregate real-time technologies'}},\n",
       " {'id': 10,\n",
       "  'name': 'Clementina DuBuque',\n",
       "  'username': 'Moriah.Stanton',\n",
       "  'email': 'Rey.Padberg@karina.biz',\n",
       "  'address': {'street': 'Kattie Turnpike',\n",
       "   'suite': 'Suite 198',\n",
       "   'city': 'Lebsackbury',\n",
       "   'zipcode': '31428-2261',\n",
       "   'geo': {'lat': '-38.2386', 'lng': '57.2232'}},\n",
       "  'phone': '024-648-3804',\n",
       "  'website': 'ambrose.net',\n",
       "  'company': {'name': 'Hoeger LLC',\n",
       "   'catchPhrase': 'Centralized empowering task-force',\n",
       "   'bs': 'target end-to-end models'}}]"
      ]
     },
     "execution_count": 2,
     "metadata": {},
     "output_type": "execute_result"
    }
   ],
   "source": [
    "url='https://jsonplaceholder.typicode.com/users'\n",
    "users=requests.get(url)\n",
    "users_json=users.json()\n",
    "users_json\n"
   ]
  },
  {
   "cell_type": "code",
   "execution_count": 3,
   "metadata": {
    "tags": []
   },
   "outputs": [
    {
     "name": "stderr",
     "output_type": "stream",
     "text": [
      "C:\\Users\\Family 2\\anaconda3\\lib\\site-packages\\ipykernel_launcher.py:5: SettingWithCopyWarning: \n",
      "A value is trying to be set on a copy of a slice from a DataFrame\n",
      "\n",
      "See the caveats in the documentation: https://pandas.pydata.org/pandas-docs/stable/user_guide/indexing.html#returning-a-view-versus-a-copy\n",
      "  \"\"\"\n",
      "C:\\Users\\Family 2\\anaconda3\\lib\\site-packages\\ipykernel_launcher.py:7: SettingWithCopyWarning: \n",
      "A value is trying to be set on a copy of a slice from a DataFrame\n",
      "\n",
      "See the caveats in the documentation: https://pandas.pydata.org/pandas-docs/stable/user_guide/indexing.html#returning-a-view-versus-a-copy\n",
      "  import sys\n"
     ]
    },
    {
     "data": {
      "text/html": [
       "<div>\n",
       "<style scoped>\n",
       "    .dataframe tbody tr th:only-of-type {\n",
       "        vertical-align: middle;\n",
       "    }\n",
       "\n",
       "    .dataframe tbody tr th {\n",
       "        vertical-align: top;\n",
       "    }\n",
       "\n",
       "    .dataframe thead th {\n",
       "        text-align: right;\n",
       "    }\n",
       "</style>\n",
       "<table border=\"1\" class=\"dataframe\">\n",
       "  <thead>\n",
       "    <tr style=\"text-align: right;\">\n",
       "      <th></th>\n",
       "      <th>id</th>\n",
       "      <th>name</th>\n",
       "      <th>username</th>\n",
       "      <th>email</th>\n",
       "      <th>address</th>\n",
       "      <th>phone</th>\n",
       "      <th>website</th>\n",
       "      <th>company</th>\n",
       "    </tr>\n",
       "  </thead>\n",
       "  <tbody>\n",
       "    <tr>\n",
       "      <th>0</th>\n",
       "      <td>1</td>\n",
       "      <td>Leanne Graham</td>\n",
       "      <td>Bret</td>\n",
       "      <td>Sincere@april.biz</td>\n",
       "      <td>Kulas Light, Apt. 556, Gwenborough, 92998-3874</td>\n",
       "      <td>1-770-736-8031 x56442</td>\n",
       "      <td>hildegard.org</td>\n",
       "      <td>Romaguera-Crona</td>\n",
       "    </tr>\n",
       "    <tr>\n",
       "      <th>1</th>\n",
       "      <td>2</td>\n",
       "      <td>Ervin Howell</td>\n",
       "      <td>Antonette</td>\n",
       "      <td>Shanna@melissa.tv</td>\n",
       "      <td>Victor Plains, Suite 879, Wisokyburgh, 90566-7771</td>\n",
       "      <td>010-692-6593 x09125</td>\n",
       "      <td>anastasia.net</td>\n",
       "      <td>Deckow-Crist</td>\n",
       "    </tr>\n",
       "    <tr>\n",
       "      <th>2</th>\n",
       "      <td>3</td>\n",
       "      <td>Clementine Bauch</td>\n",
       "      <td>Samantha</td>\n",
       "      <td>Nathan@yesenia.net</td>\n",
       "      <td>Douglas Extension, Suite 847, McKenziehaven, 5...</td>\n",
       "      <td>1-463-123-4447</td>\n",
       "      <td>ramiro.info</td>\n",
       "      <td>Romaguera-Jacobson</td>\n",
       "    </tr>\n",
       "    <tr>\n",
       "      <th>3</th>\n",
       "      <td>4</td>\n",
       "      <td>Patricia Lebsack</td>\n",
       "      <td>Karianne</td>\n",
       "      <td>Julianne.OConner@kory.org</td>\n",
       "      <td>Hoeger Mall, Apt. 692, South Elvis, 53919-4257</td>\n",
       "      <td>493-170-9623 x156</td>\n",
       "      <td>kale.biz</td>\n",
       "      <td>Robel-Corkery</td>\n",
       "    </tr>\n",
       "    <tr>\n",
       "      <th>4</th>\n",
       "      <td>5</td>\n",
       "      <td>Chelsey Dietrich</td>\n",
       "      <td>Kamren</td>\n",
       "      <td>Lucio_Hettinger@annie.ca</td>\n",
       "      <td>Skiles Walks, Suite 351, Roscoeview, 33263</td>\n",
       "      <td>(254)954-1289</td>\n",
       "      <td>demarco.info</td>\n",
       "      <td>Keebler LLC</td>\n",
       "    </tr>\n",
       "    <tr>\n",
       "      <th>5</th>\n",
       "      <td>6</td>\n",
       "      <td>Mrs. Dennis Schulist</td>\n",
       "      <td>Leopoldo_Corkery</td>\n",
       "      <td>Karley_Dach@jasper.info</td>\n",
       "      <td>Norberto Crossing, Apt. 950, South Christy, 23...</td>\n",
       "      <td>1-477-935-8478 x6430</td>\n",
       "      <td>ola.org</td>\n",
       "      <td>Considine-Lockman</td>\n",
       "    </tr>\n",
       "    <tr>\n",
       "      <th>6</th>\n",
       "      <td>7</td>\n",
       "      <td>Kurtis Weissnat</td>\n",
       "      <td>Elwyn.Skiles</td>\n",
       "      <td>Telly.Hoeger@billy.biz</td>\n",
       "      <td>Rex Trail, Suite 280, Howemouth, 58804-1099</td>\n",
       "      <td>210.067.6132</td>\n",
       "      <td>elvis.io</td>\n",
       "      <td>Johns Group</td>\n",
       "    </tr>\n",
       "    <tr>\n",
       "      <th>7</th>\n",
       "      <td>8</td>\n",
       "      <td>Nicholas Runolfsdottir V</td>\n",
       "      <td>Maxime_Nienow</td>\n",
       "      <td>Sherwood@rosamond.me</td>\n",
       "      <td>Ellsworth Summit, Suite 729, Aliyaview, 45169</td>\n",
       "      <td>586.493.6943 x140</td>\n",
       "      <td>jacynthe.com</td>\n",
       "      <td>Abernathy Group</td>\n",
       "    </tr>\n",
       "    <tr>\n",
       "      <th>8</th>\n",
       "      <td>9</td>\n",
       "      <td>Glenna Reichert</td>\n",
       "      <td>Delphine</td>\n",
       "      <td>Chaim_McDermott@dana.io</td>\n",
       "      <td>Dayna Park, Suite 449, Bartholomebury, 76495-3109</td>\n",
       "      <td>(775)976-6794 x41206</td>\n",
       "      <td>conrad.com</td>\n",
       "      <td>Yost and Sons</td>\n",
       "    </tr>\n",
       "    <tr>\n",
       "      <th>9</th>\n",
       "      <td>10</td>\n",
       "      <td>Clementina DuBuque</td>\n",
       "      <td>Moriah.Stanton</td>\n",
       "      <td>Rey.Padberg@karina.biz</td>\n",
       "      <td>Kattie Turnpike, Suite 198, Lebsackbury, 31428...</td>\n",
       "      <td>024-648-3804</td>\n",
       "      <td>ambrose.net</td>\n",
       "      <td>Hoeger LLC</td>\n",
       "    </tr>\n",
       "  </tbody>\n",
       "</table>\n",
       "</div>"
      ],
      "text/plain": [
       "   id                      name          username                      email  \\\n",
       "0   1             Leanne Graham              Bret          Sincere@april.biz   \n",
       "1   2              Ervin Howell         Antonette          Shanna@melissa.tv   \n",
       "2   3          Clementine Bauch          Samantha         Nathan@yesenia.net   \n",
       "3   4          Patricia Lebsack          Karianne  Julianne.OConner@kory.org   \n",
       "4   5          Chelsey Dietrich            Kamren   Lucio_Hettinger@annie.ca   \n",
       "5   6      Mrs. Dennis Schulist  Leopoldo_Corkery    Karley_Dach@jasper.info   \n",
       "6   7           Kurtis Weissnat      Elwyn.Skiles     Telly.Hoeger@billy.biz   \n",
       "7   8  Nicholas Runolfsdottir V     Maxime_Nienow       Sherwood@rosamond.me   \n",
       "8   9           Glenna Reichert          Delphine    Chaim_McDermott@dana.io   \n",
       "9  10        Clementina DuBuque    Moriah.Stanton     Rey.Padberg@karina.biz   \n",
       "\n",
       "                                             address                  phone  \\\n",
       "0     Kulas Light, Apt. 556, Gwenborough, 92998-3874  1-770-736-8031 x56442   \n",
       "1  Victor Plains, Suite 879, Wisokyburgh, 90566-7771    010-692-6593 x09125   \n",
       "2  Douglas Extension, Suite 847, McKenziehaven, 5...         1-463-123-4447   \n",
       "3     Hoeger Mall, Apt. 692, South Elvis, 53919-4257      493-170-9623 x156   \n",
       "4         Skiles Walks, Suite 351, Roscoeview, 33263          (254)954-1289   \n",
       "5  Norberto Crossing, Apt. 950, South Christy, 23...   1-477-935-8478 x6430   \n",
       "6        Rex Trail, Suite 280, Howemouth, 58804-1099           210.067.6132   \n",
       "7      Ellsworth Summit, Suite 729, Aliyaview, 45169      586.493.6943 x140   \n",
       "8  Dayna Park, Suite 449, Bartholomebury, 76495-3109   (775)976-6794 x41206   \n",
       "9  Kattie Turnpike, Suite 198, Lebsackbury, 31428...           024-648-3804   \n",
       "\n",
       "         website             company  \n",
       "0  hildegard.org     Romaguera-Crona  \n",
       "1  anastasia.net        Deckow-Crist  \n",
       "2    ramiro.info  Romaguera-Jacobson  \n",
       "3       kale.biz       Robel-Corkery  \n",
       "4   demarco.info         Keebler LLC  \n",
       "5        ola.org   Considine-Lockman  \n",
       "6       elvis.io         Johns Group  \n",
       "7   jacynthe.com     Abernathy Group  \n",
       "8     conrad.com       Yost and Sons  \n",
       "9    ambrose.net          Hoeger LLC  "
      ]
     },
     "execution_count": 3,
     "metadata": {},
     "output_type": "execute_result"
    }
   ],
   "source": [
    "users_df=pd.DataFrame(users_json)\n",
    "for i in users_df:\n",
    "    for x in range(len(users_df[i])):\n",
    "        if i=='address':\n",
    "            users_df[i][x]=f\"{users_df[i][x]['street']}, {users_df[i][x]['suite']}, {users_df[i][x]['city']}, {users_df[i][x]['zipcode']}\"\n",
    "        if i=='company':\n",
    "            users_df[i][x]=f\"{users_df[i][x]['name']}\"\n",
    "users_df"
   ]
  },
  {
   "cell_type": "markdown",
   "metadata": {},
   "source": [
    "# IQair API\n",
    "### mengambil data yang di record oleh IQair"
   ]
  },
  {
   "cell_type": "code",
   "execution_count": 4,
   "metadata": {},
   "outputs": [
    {
     "data": {
      "text/plain": [
       "<Response [200]>"
      ]
     },
     "execution_count": 4,
     "metadata": {},
     "output_type": "execute_result"
    }
   ],
   "source": [
    "key='1a2f21f5-2253-47b5-8a1d-40d086d30dda'\n",
    "url=f'http://api.airvisual.com/v2/countries?key={key}'\n",
    "data_country=requests.get(url)\n",
    "data_country"
   ]
  },
  {
   "cell_type": "code",
   "execution_count": 5,
   "metadata": {},
   "outputs": [],
   "source": [
    "country=data_country.json()\n"
   ]
  },
  {
   "cell_type": "code",
   "execution_count": 6,
   "metadata": {},
   "outputs": [
    {
     "data": {
      "text/plain": [
       "<Response [200]>"
      ]
     },
     "execution_count": 6,
     "metadata": {},
     "output_type": "execute_result"
    }
   ],
   "source": [
    "country_name='Indonesia'\n",
    "url=f'http://api.airvisual.com/v2/states?country={country_name}&key={key}'\n",
    "data_state=requests.get(url)\n",
    "data_state"
   ]
  },
  {
   "cell_type": "code",
   "execution_count": 7,
   "metadata": {},
   "outputs": [
    {
     "data": {
      "text/plain": [
       "{'status': 'success',\n",
       " 'data': [{'state': 'Bali'},\n",
       "  {'state': 'East Java'},\n",
       "  {'state': 'Jakarta'},\n",
       "  {'state': 'Riau'},\n",
       "  {'state': 'West Kalimantan'}]}"
      ]
     },
     "execution_count": 7,
     "metadata": {},
     "output_type": "execute_result"
    }
   ],
   "source": [
    "data_state.json()"
   ]
  },
  {
   "cell_type": "code",
   "execution_count": 8,
   "metadata": {},
   "outputs": [
    {
     "data": {
      "text/plain": [
       "<Response [200]>"
      ]
     },
     "execution_count": 8,
     "metadata": {},
     "output_type": "execute_result"
    }
   ],
   "source": [
    "state='Bali'\n",
    "url=f'http://api.airvisual.com/v2/cities?state={state}&country={country_name}&key={key}'\n",
    "data_cities=requests.get(url)\n",
    "data_cities"
   ]
  },
  {
   "cell_type": "code",
   "execution_count": 9,
   "metadata": {},
   "outputs": [
    {
     "data": {
      "text/plain": [
       "{'status': 'success',\n",
       " 'data': [{'city': 'Denpasar'}, {'city': 'Kuta'}, {'city': 'Ubud'}]}"
      ]
     },
     "execution_count": 9,
     "metadata": {},
     "output_type": "execute_result"
    }
   ],
   "source": [
    "data_cities.json()"
   ]
  },
  {
   "cell_type": "code",
   "execution_count": 10,
   "metadata": {},
   "outputs": [
    {
     "data": {
      "text/plain": [
       "{'status': 'success',\n",
       " 'data': {'city': 'Kuta',\n",
       "  'state': 'Bali',\n",
       "  'country': 'Indonesia',\n",
       "  'location': {'type': 'Point', 'coordinates': [115.17234, -8.72332]},\n",
       "  'current': {'weather': {'ts': '2020-07-30T02:00:00.000Z',\n",
       "    'tp': 27,\n",
       "    'pr': 1013,\n",
       "    'hu': 83,\n",
       "    'ws': 5.1,\n",
       "    'wd': 100,\n",
       "    'ic': '03d'},\n",
       "   'pollution': {'ts': '2020-07-30T02:00:00.000Z',\n",
       "    'aqius': 35,\n",
       "    'mainus': 'p2',\n",
       "    'aqicn': 12,\n",
       "    'maincn': 'p2'}}}}"
      ]
     },
     "execution_count": 10,
     "metadata": {},
     "output_type": "execute_result"
    }
   ],
   "source": [
    "city='Kuta'\n",
    "url=f'http://api.airvisual.com/v2/city?city={city}&state={state}&country={country_name}&key={key}'\n",
    "city_data=requests.get(url)\n",
    "city_data.json()"
   ]
  },
  {
   "cell_type": "code",
   "execution_count": 11,
   "metadata": {},
   "outputs": [],
   "source": [
    "kuta=city_data.json()['data']"
   ]
  },
  {
   "cell_type": "markdown",
   "metadata": {},
   "source": [
    "# bikin tabel kaya gini\n",
    "\n",
    "<img src=\"From Tutor/tabel.png\">"
   ]
  },
  {
   "cell_type": "code",
   "execution_count": 12,
   "metadata": {
    "tags": []
   },
   "outputs": [
    {
     "data": {
      "text/html": [
       "<div>\n",
       "<style scoped>\n",
       "    .dataframe tbody tr th:only-of-type {\n",
       "        vertical-align: middle;\n",
       "    }\n",
       "\n",
       "    .dataframe tbody tr th {\n",
       "        vertical-align: top;\n",
       "    }\n",
       "\n",
       "    .dataframe thead th {\n",
       "        text-align: right;\n",
       "    }\n",
       "</style>\n",
       "<table border=\"1\" class=\"dataframe\">\n",
       "  <thead>\n",
       "    <tr style=\"text-align: right;\">\n",
       "      <th></th>\n",
       "      <th></th>\n",
       "      <th>lat</th>\n",
       "      <th>long</th>\n",
       "      <th>temp</th>\n",
       "      <th>humidity</th>\n",
       "      <th>aqius</th>\n",
       "    </tr>\n",
       "    <tr>\n",
       "      <th>state</th>\n",
       "      <th>city</th>\n",
       "      <th></th>\n",
       "      <th></th>\n",
       "      <th></th>\n",
       "      <th></th>\n",
       "      <th></th>\n",
       "    </tr>\n",
       "  </thead>\n",
       "  <tbody>\n",
       "    <tr>\n",
       "      <th rowspan=\"3\" valign=\"top\">Bali</th>\n",
       "      <th>Denpasar</th>\n",
       "      <td>115.198</td>\n",
       "      <td>-8.66323</td>\n",
       "      <td>27</td>\n",
       "      <td>83</td>\n",
       "      <td>84</td>\n",
       "    </tr>\n",
       "    <tr>\n",
       "      <th>Kuta</th>\n",
       "      <td>unknown</td>\n",
       "      <td>unknown</td>\n",
       "      <td>unknown</td>\n",
       "      <td>unknown</td>\n",
       "      <td>unknown</td>\n",
       "    </tr>\n",
       "    <tr>\n",
       "      <th>Ubud</th>\n",
       "      <td>unknown</td>\n",
       "      <td>unknown</td>\n",
       "      <td>unknown</td>\n",
       "      <td>unknown</td>\n",
       "      <td>unknown</td>\n",
       "    </tr>\n",
       "    <tr>\n",
       "      <th>West Kalimantan</th>\n",
       "      <th>Pontianak</th>\n",
       "      <td>unknown</td>\n",
       "      <td>unknown</td>\n",
       "      <td>unknown</td>\n",
       "      <td>unknown</td>\n",
       "      <td>unknown</td>\n",
       "    </tr>\n",
       "  </tbody>\n",
       "</table>\n",
       "</div>"
      ],
      "text/plain": [
       "                               lat     long     temp humidity    aqius\n",
       "state           city                                                  \n",
       "Bali            Denpasar   115.198 -8.66323       27       83       84\n",
       "                Kuta       unknown  unknown  unknown  unknown  unknown\n",
       "                Ubud       unknown  unknown  unknown  unknown  unknown\n",
       "West Kalimantan Pontianak  unknown  unknown  unknown  unknown  unknown"
      ]
     },
     "execution_count": 12,
     "metadata": {},
     "output_type": "execute_result"
    }
   ],
   "source": [
    "state= [i['state'] for i in data_state.json()['data']]\n",
    "provinsi=()\n",
    "kota=[]\n",
    "for i in state:\n",
    "    url=f\"http://api.airvisual.com/v2/cities?state={i}&country={country_name}&key={key}\"\n",
    "    data_kota=requests.get(url)\n",
    "    for x in data_kota.json()['data']:\n",
    "        if x=='message':\n",
    "            continue\n",
    "        else:                \n",
    "            url_kot=f\"http://api.airvisual.com/v2/city?city={x['city']}&state={i}&country={country_name}&key={key}\"\n",
    "            data_re_kot= requests.get(url_kot)\n",
    "            if 'location' in data_re_kot.json()['data']:\n",
    "                lon_g=data_re_kot.json()['data']['location']['coordinates'][1]\n",
    "                lat=data_re_kot.json()['data']['location']['coordinates'][0]\n",
    "            else:\n",
    "                lon_g='unknown'\n",
    "                lat='unknown'\n",
    "            if 'current' in data_re_kot.json()['data']:\n",
    "                temp=data_re_kot.json()['data']['current']['weather']['tp']\n",
    "                hu=data_re_kot.json()['data']['current']['weather']['hu']\n",
    "                aquis=data_re_kot.json()['data']['current']['pollution']['aqius']\n",
    "            else:\n",
    "                temp='unknown'\n",
    "                hu='unknown'\n",
    "                aquis='unknown'\n",
    "            kota.append({'state':i, 'city': x['city'],'lat':lat,'long':lon_g,'temp':temp,'humidity':hu, 'aqius':aquis})\n",
    "hasil=pd.DataFrame(kota)\n",
    "hasil.set_index(['state','city'])"
   ]
  },
  {
   "cell_type": "markdown",
   "metadata": {
    "tags": []
   },
   "source": [
    "# Data Covid 19 Dunia\n",
    "<img src=\"From Tutor\\covid.png\">"
   ]
  },
  {
   "cell_type": "code",
   "execution_count": 13,
   "metadata": {},
   "outputs": [],
   "source": [
    "url='https://api.covid19api.com/all'\n",
    "covid=requests.get(url)"
   ]
  },
  {
   "cell_type": "code",
   "execution_count": 14,
   "metadata": {},
   "outputs": [],
   "source": [
    "tabel_covid=pd.DataFrame(covid.json())"
   ]
  },
  {
   "cell_type": "code",
   "execution_count": 15,
   "metadata": {},
   "outputs": [
    {
     "data": {
      "text/html": [
       "<div>\n",
       "<style scoped>\n",
       "    .dataframe tbody tr th:only-of-type {\n",
       "        vertical-align: middle;\n",
       "    }\n",
       "\n",
       "    .dataframe tbody tr th {\n",
       "        vertical-align: top;\n",
       "    }\n",
       "\n",
       "    .dataframe thead th {\n",
       "        text-align: right;\n",
       "    }\n",
       "</style>\n",
       "<table border=\"1\" class=\"dataframe\">\n",
       "  <thead>\n",
       "    <tr style=\"text-align: right;\">\n",
       "      <th></th>\n",
       "      <th>Confirmed</th>\n",
       "      <th>Deaths</th>\n",
       "      <th>Recovered</th>\n",
       "      <th>Active</th>\n",
       "    </tr>\n",
       "  </thead>\n",
       "  <tbody>\n",
       "    <tr>\n",
       "      <th>count</th>\n",
       "      <td>6.796160e+05</td>\n",
       "      <td>679616.000000</td>\n",
       "      <td>6.796160e+05</td>\n",
       "      <td>6.796160e+05</td>\n",
       "    </tr>\n",
       "    <tr>\n",
       "      <th>mean</th>\n",
       "      <td>1.580558e+03</td>\n",
       "      <td>82.934673</td>\n",
       "      <td>6.065932e+02</td>\n",
       "      <td>9.125817e+02</td>\n",
       "    </tr>\n",
       "    <tr>\n",
       "      <th>std</th>\n",
       "      <td>3.526263e+04</td>\n",
       "      <td>1769.550355</td>\n",
       "      <td>1.543903e+04</td>\n",
       "      <td>2.113634e+04</td>\n",
       "    </tr>\n",
       "    <tr>\n",
       "      <th>min</th>\n",
       "      <td>0.000000e+00</td>\n",
       "      <td>0.000000</td>\n",
       "      <td>0.000000e+00</td>\n",
       "      <td>0.000000e+00</td>\n",
       "    </tr>\n",
       "    <tr>\n",
       "      <th>25%</th>\n",
       "      <td>0.000000e+00</td>\n",
       "      <td>0.000000</td>\n",
       "      <td>0.000000e+00</td>\n",
       "      <td>0.000000e+00</td>\n",
       "    </tr>\n",
       "    <tr>\n",
       "      <th>50%</th>\n",
       "      <td>6.000000e+00</td>\n",
       "      <td>0.000000</td>\n",
       "      <td>0.000000e+00</td>\n",
       "      <td>5.000000e+00</td>\n",
       "    </tr>\n",
       "    <tr>\n",
       "      <th>75%</th>\n",
       "      <td>8.200000e+01</td>\n",
       "      <td>2.000000</td>\n",
       "      <td>0.000000e+00</td>\n",
       "      <td>7.100000e+01</td>\n",
       "    </tr>\n",
       "    <tr>\n",
       "      <th>max</th>\n",
       "      <td>4.356206e+06</td>\n",
       "      <td>149310.000000</td>\n",
       "      <td>1.868749e+06</td>\n",
       "      <td>2.851533e+06</td>\n",
       "    </tr>\n",
       "  </tbody>\n",
       "</table>\n",
       "</div>"
      ],
      "text/plain": [
       "          Confirmed         Deaths     Recovered        Active\n",
       "count  6.796160e+05  679616.000000  6.796160e+05  6.796160e+05\n",
       "mean   1.580558e+03      82.934673  6.065932e+02  9.125817e+02\n",
       "std    3.526263e+04    1769.550355  1.543903e+04  2.113634e+04\n",
       "min    0.000000e+00       0.000000  0.000000e+00  0.000000e+00\n",
       "25%    0.000000e+00       0.000000  0.000000e+00  0.000000e+00\n",
       "50%    6.000000e+00       0.000000  0.000000e+00  5.000000e+00\n",
       "75%    8.200000e+01       2.000000  0.000000e+00  7.100000e+01\n",
       "max    4.356206e+06  149310.000000  1.868749e+06  2.851533e+06"
      ]
     },
     "execution_count": 15,
     "metadata": {},
     "output_type": "execute_result"
    }
   ],
   "source": [
    "tabel_covid.describe()"
   ]
  },
  {
   "cell_type": "code",
   "execution_count": 16,
   "metadata": {
    "tags": []
   },
   "outputs": [
    {
     "name": "stdout",
     "output_type": "stream",
     "text": [
      "<class 'pandas.core.frame.DataFrame'>\n",
      "RangeIndex: 679616 entries, 0 to 679615\n",
      "Data columns (total 12 columns):\n",
      " #   Column       Non-Null Count   Dtype \n",
      "---  ------       --------------   ----- \n",
      " 0   Country      679616 non-null  object\n",
      " 1   CountryCode  679616 non-null  object\n",
      " 2   Province     679616 non-null  object\n",
      " 3   City         679616 non-null  object\n",
      " 4   CityCode     679616 non-null  object\n",
      " 5   Lat          679616 non-null  object\n",
      " 6   Lon          679616 non-null  object\n",
      " 7   Confirmed    679616 non-null  int64 \n",
      " 8   Deaths       679616 non-null  int64 \n",
      " 9   Recovered    679616 non-null  int64 \n",
      " 10  Active       679616 non-null  int64 \n",
      " 11  Date         679616 non-null  object\n",
      "dtypes: int64(4), object(8)\n",
      "memory usage: 62.2+ MB\n"
     ]
    }
   ],
   "source": [
    "tabel_covid.info()"
   ]
  },
  {
   "cell_type": "code",
   "execution_count": 17,
   "metadata": {},
   "outputs": [],
   "source": [
    "ByGroup_negara=tabel_covid.groupby('Country')"
   ]
  },
  {
   "cell_type": "code",
   "execution_count": 18,
   "metadata": {
    "tags": []
   },
   "outputs": [
    {
     "data": {
      "text/html": [
       "<div>\n",
       "<style scoped>\n",
       "    .dataframe tbody tr th:only-of-type {\n",
       "        vertical-align: middle;\n",
       "    }\n",
       "\n",
       "    .dataframe tbody tr th {\n",
       "        vertical-align: top;\n",
       "    }\n",
       "\n",
       "    .dataframe thead th {\n",
       "        text-align: right;\n",
       "    }\n",
       "</style>\n",
       "<table border=\"1\" class=\"dataframe\">\n",
       "  <thead>\n",
       "    <tr style=\"text-align: right;\">\n",
       "      <th></th>\n",
       "      <th>negara</th>\n",
       "      <th>rasio</th>\n",
       "    </tr>\n",
       "  </thead>\n",
       "  <tbody>\n",
       "    <tr>\n",
       "      <th>30</th>\n",
       "      <td>Canada</td>\n",
       "      <td>101.208214</td>\n",
       "    </tr>\n",
       "    <tr>\n",
       "      <th>66</th>\n",
       "      <td>Grenada</td>\n",
       "      <td>100.000000</td>\n",
       "    </tr>\n",
       "    <tr>\n",
       "      <th>168</th>\n",
       "      <td>Timor-Leste</td>\n",
       "      <td>100.000000</td>\n",
       "    </tr>\n",
       "    <tr>\n",
       "      <th>48</th>\n",
       "      <td>Dominica</td>\n",
       "      <td>100.000000</td>\n",
       "    </tr>\n",
       "    <tr>\n",
       "      <th>72</th>\n",
       "      <td>Holy See (Vatican City State)</td>\n",
       "      <td>100.000000</td>\n",
       "    </tr>\n",
       "  </tbody>\n",
       "</table>\n",
       "</div>"
      ],
      "text/plain": [
       "                            negara       rasio\n",
       "30                          Canada  101.208214\n",
       "66                         Grenada  100.000000\n",
       "168                    Timor-Leste  100.000000\n",
       "48                        Dominica  100.000000\n",
       "72   Holy See (Vatican City State)  100.000000"
      ]
     },
     "execution_count": 18,
     "metadata": {},
     "output_type": "execute_result"
    }
   ],
   "source": [
    "negara=[i for i in ByGroup_negara.groups.keys()]\n",
    "ratio_selamat=[]\n",
    "ratio_gugur=[]\n",
    "for i in negara:\n",
    "    if len(ByGroup_negara.get_group(i)['City'].unique())==1 and len(ByGroup_negara.get_group(i)['Province'].unique())==1:\n",
    "        selamat=ByGroup_negara.get_group(i)['Recovered'].iloc[-1]\n",
    "        gugur=ByGroup_negara.get_group(i)['Deaths'].iloc[-1]\n",
    "        conf=ByGroup_negara.get_group(i)['Confirmed'].iloc[-1]\n",
    "        ratio_selamat.append({'negara':i,'rasio': (selamat/conf)*100})\n",
    "        ratio_gugur.append({'negara':i,'rasio': (gugur/conf)*100})    \n",
    "    else:\n",
    "        selamat=ByGroup_negara.get_group(i)['Recovered'].sum()\n",
    "        gugur=ByGroup_negara.get_group(i)['Deaths'].sum()\n",
    "        conf=ByGroup_negara.get_group(i)['Confirmed'].sum()\n",
    "        ratio_selamat.append({'negara':i,'rasio': (selamat/conf)*100})\n",
    "        ratio_gugur.append({'negara':i,'rasio': (gugur/conf)*100})\n",
    "ratio_selamat=pd.DataFrame(ratio_selamat)\n",
    "ratio_selamat\n",
    "ratio_selamat.sort_values('rasio',ascending=False).head(5)\n",
    "\n"
   ]
  },
  {
   "cell_type": "code",
   "execution_count": 19,
   "metadata": {
    "tags": []
   },
   "outputs": [
    {
     "data": {
      "text/html": [
       "<div>\n",
       "<style scoped>\n",
       "    .dataframe tbody tr th:only-of-type {\n",
       "        vertical-align: middle;\n",
       "    }\n",
       "\n",
       "    .dataframe tbody tr th {\n",
       "        vertical-align: top;\n",
       "    }\n",
       "\n",
       "    .dataframe thead th {\n",
       "        text-align: right;\n",
       "    }\n",
       "</style>\n",
       "<table border=\"1\" class=\"dataframe\">\n",
       "  <thead>\n",
       "    <tr style=\"text-align: right;\">\n",
       "      <th></th>\n",
       "      <th>negara</th>\n",
       "      <th>rasio</th>\n",
       "    </tr>\n",
       "  </thead>\n",
       "  <tbody>\n",
       "    <tr>\n",
       "      <th>147</th>\n",
       "      <td>Serbia</td>\n",
       "      <td>0.000000</td>\n",
       "    </tr>\n",
       "    <tr>\n",
       "      <th>161</th>\n",
       "      <td>Sweden</td>\n",
       "      <td>0.000000</td>\n",
       "    </tr>\n",
       "    <tr>\n",
       "      <th>119</th>\n",
       "      <td>Netherlands</td>\n",
       "      <td>0.342272</td>\n",
       "    </tr>\n",
       "    <tr>\n",
       "      <th>176</th>\n",
       "      <td>United Kingdom</td>\n",
       "      <td>0.477985</td>\n",
       "    </tr>\n",
       "    <tr>\n",
       "      <th>117</th>\n",
       "      <td>Namibia</td>\n",
       "      <td>5.425143</td>\n",
       "    </tr>\n",
       "  </tbody>\n",
       "</table>\n",
       "</div>"
      ],
      "text/plain": [
       "             negara     rasio\n",
       "147          Serbia  0.000000\n",
       "161          Sweden  0.000000\n",
       "119     Netherlands  0.342272\n",
       "176  United Kingdom  0.477985\n",
       "117         Namibia  5.425143"
      ]
     },
     "execution_count": 19,
     "metadata": {},
     "output_type": "execute_result"
    }
   ],
   "source": [
    "ratio_selamat.sort_values('rasio').head(5)\n"
   ]
  },
  {
   "cell_type": "code",
   "execution_count": 20,
   "metadata": {
    "tags": []
   },
   "outputs": [
    {
     "data": {
      "text/html": [
       "<div>\n",
       "<style scoped>\n",
       "    .dataframe tbody tr th:only-of-type {\n",
       "        vertical-align: middle;\n",
       "    }\n",
       "\n",
       "    .dataframe tbody tr th {\n",
       "        vertical-align: top;\n",
       "    }\n",
       "\n",
       "    .dataframe thead th {\n",
       "        text-align: right;\n",
       "    }\n",
       "</style>\n",
       "<table border=\"1\" class=\"dataframe\">\n",
       "  <thead>\n",
       "    <tr style=\"text-align: right;\">\n",
       "      <th></th>\n",
       "      <th>negara</th>\n",
       "      <th>rasio</th>\n",
       "    </tr>\n",
       "  </thead>\n",
       "  <tbody>\n",
       "    <tr>\n",
       "      <th>48</th>\n",
       "      <td>Dominica</td>\n",
       "      <td>0.0</td>\n",
       "    </tr>\n",
       "    <tr>\n",
       "      <th>181</th>\n",
       "      <td>Viet Nam</td>\n",
       "      <td>0.0</td>\n",
       "    </tr>\n",
       "    <tr>\n",
       "      <th>148</th>\n",
       "      <td>Seychelles</td>\n",
       "      <td>0.0</td>\n",
       "    </tr>\n",
       "    <tr>\n",
       "      <th>142</th>\n",
       "      <td>Saint Vincent and Grenadines</td>\n",
       "      <td>0.0</td>\n",
       "    </tr>\n",
       "    <tr>\n",
       "      <th>72</th>\n",
       "      <td>Holy See (Vatican City State)</td>\n",
       "      <td>0.0</td>\n",
       "    </tr>\n",
       "    <tr>\n",
       "      <th>112</th>\n",
       "      <td>Mongolia</td>\n",
       "      <td>0.0</td>\n",
       "    </tr>\n",
       "    <tr>\n",
       "      <th>54</th>\n",
       "      <td>Eritrea</td>\n",
       "      <td>0.0</td>\n",
       "    </tr>\n",
       "    <tr>\n",
       "      <th>129</th>\n",
       "      <td>Papua New Guinea</td>\n",
       "      <td>0.0</td>\n",
       "    </tr>\n",
       "    <tr>\n",
       "      <th>141</th>\n",
       "      <td>Saint Lucia</td>\n",
       "      <td>0.0</td>\n",
       "    </tr>\n",
       "    <tr>\n",
       "      <th>91</th>\n",
       "      <td>Lao PDR</td>\n",
       "      <td>0.0</td>\n",
       "    </tr>\n",
       "  </tbody>\n",
       "</table>\n",
       "</div>"
      ],
      "text/plain": [
       "                            negara  rasio\n",
       "48                        Dominica    0.0\n",
       "181                       Viet Nam    0.0\n",
       "148                     Seychelles    0.0\n",
       "142   Saint Vincent and Grenadines    0.0\n",
       "72   Holy See (Vatican City State)    0.0\n",
       "112                       Mongolia    0.0\n",
       "54                         Eritrea    0.0\n",
       "129               Papua New Guinea    0.0\n",
       "141                    Saint Lucia    0.0\n",
       "91                         Lao PDR    0.0"
      ]
     },
     "execution_count": 20,
     "metadata": {},
     "output_type": "execute_result"
    }
   ],
   "source": [
    "ratio_gugur=pd.DataFrame(ratio_gugur)\n",
    "ratio_gugur.sort_values('rasio').head(10)"
   ]
  },
  {
   "cell_type": "code",
   "execution_count": 21,
   "metadata": {},
   "outputs": [
    {
     "data": {
      "text/html": [
       "<div>\n",
       "<style scoped>\n",
       "    .dataframe tbody tr th:only-of-type {\n",
       "        vertical-align: middle;\n",
       "    }\n",
       "\n",
       "    .dataframe tbody tr th {\n",
       "        vertical-align: top;\n",
       "    }\n",
       "\n",
       "    .dataframe thead th {\n",
       "        text-align: right;\n",
       "    }\n",
       "</style>\n",
       "<table border=\"1\" class=\"dataframe\">\n",
       "  <thead>\n",
       "    <tr style=\"text-align: right;\">\n",
       "      <th></th>\n",
       "      <th>negara</th>\n",
       "      <th>rasio</th>\n",
       "    </tr>\n",
       "  </thead>\n",
       "  <tbody>\n",
       "    <tr>\n",
       "      <th>183</th>\n",
       "      <td>Yemen</td>\n",
       "      <td>28.420435</td>\n",
       "    </tr>\n",
       "    <tr>\n",
       "      <th>176</th>\n",
       "      <td>United Kingdom</td>\n",
       "      <td>19.103256</td>\n",
       "    </tr>\n",
       "    <tr>\n",
       "      <th>16</th>\n",
       "      <td>Belgium</td>\n",
       "      <td>14.750533</td>\n",
       "    </tr>\n",
       "    <tr>\n",
       "      <th>59</th>\n",
       "      <td>France</td>\n",
       "      <td>14.365214</td>\n",
       "    </tr>\n",
       "    <tr>\n",
       "      <th>82</th>\n",
       "      <td>Italy</td>\n",
       "      <td>14.249375</td>\n",
       "    </tr>\n",
       "    <tr>\n",
       "      <th>74</th>\n",
       "      <td>Hungary</td>\n",
       "      <td>13.375224</td>\n",
       "    </tr>\n",
       "    <tr>\n",
       "      <th>119</th>\n",
       "      <td>Netherlands</td>\n",
       "      <td>12.035243</td>\n",
       "    </tr>\n",
       "    <tr>\n",
       "      <th>109</th>\n",
       "      <td>Mexico</td>\n",
       "      <td>11.143863</td>\n",
       "    </tr>\n",
       "    <tr>\n",
       "      <th>156</th>\n",
       "      <td>Spain</td>\n",
       "      <td>10.133637</td>\n",
       "    </tr>\n",
       "    <tr>\n",
       "      <th>182</th>\n",
       "      <td>Western Sahara</td>\n",
       "      <td>10.000000</td>\n",
       "    </tr>\n",
       "  </tbody>\n",
       "</table>\n",
       "</div>"
      ],
      "text/plain": [
       "             negara      rasio\n",
       "183           Yemen  28.420435\n",
       "176  United Kingdom  19.103256\n",
       "16          Belgium  14.750533\n",
       "59           France  14.365214\n",
       "82            Italy  14.249375\n",
       "74          Hungary  13.375224\n",
       "119     Netherlands  12.035243\n",
       "109          Mexico  11.143863\n",
       "156           Spain  10.133637\n",
       "182  Western Sahara  10.000000"
      ]
     },
     "execution_count": 21,
     "metadata": {},
     "output_type": "execute_result"
    }
   ],
   "source": [
    "ratio_gugur=pd.DataFrame(ratio_gugur)\n",
    "ratio_gugur.sort_values('rasio',ascending=False).head(10)"
   ]
  },
  {
   "cell_type": "code",
   "execution_count": 22,
   "metadata": {
    "tags": []
   },
   "outputs": [
    {
     "data": {
      "text/plain": [
       "<matplotlib.axes._subplots.AxesSubplot at 0x217a39f9dc8>"
      ]
     },
     "execution_count": 22,
     "metadata": {},
     "output_type": "execute_result"
    },
    {
     "data": {
      "image/png": "[encoded data removed]",
      "text/plain": [
       "<Figure size 432x288 with 1 Axes>"
      ]
     },
     "metadata": {
      "needs_background": "light"
     },
     "output_type": "display_data"
    }
   ],
   "source": [
    "id = ByGroup_negara.get_group('Indonesia')\n",
    "Bulan={}\n",
    "for i in id['Date']:\n",
    "    if '2020-01'in i:\n",
    "        Bulan.update({'Jan':i})\n",
    "    elif '2020-02'in i:\n",
    "        Bulan.update({'Feb':i})\n",
    "    elif '2020-03'in i:\n",
    "        Bulan.update({'Mar':i})\n",
    "    elif '2020-04'in i:\n",
    "        Bulan.update({'Apr':i})\n",
    "    elif '2020-05'in i:\n",
    "        Bulan.update({'Mei':i})\n",
    "    elif '2020-06'in i:\n",
    "        Bulan.update({'Jun':i})\n",
    "    elif '2020-07'in i:\n",
    "        Bulan.update({'Jul':i})\n",
    "    # Bulan.append({'Jumlah kasus':id[id['Date']==Bulan[i]]['Confirmed'].iloc[0]}})\n",
    "jumkas=[]\n",
    "jumkem=[]\n",
    "jumsel=[]\n",
    "jumkasak=[]\n",
    "for i in Bulan:\n",
    "    jumkas.append({'Bulan':i,'Jumlah Kasus':id[id['Date']==Bulan[i]]['Confirmed'].iloc[0]})\n",
    "    jumkem.append({'Bulan':i,'Jumlah Kasus':id[id['Date']==Bulan[i]]['Deaths'].iloc[0]})\n",
    "    jumsel.append({'Bulan':i,'Jumlah Kasus':id[id['Date']==Bulan[i]]['Recovered'].iloc[0]})\n",
    "    jumkasak.append({'Bulan':i,'Jumlah Kasus':id[id['Date']==Bulan[i]]['Active'].iloc[0]})\n",
    "jumkas=pd.DataFrame(jumkas)\n",
    "jumkem=pd.DataFrame(jumkem)\n",
    "jumsel=pd.DataFrame(jumsel)\n",
    "jumkasak=pd.DataFrame(jumkasak)\n",
    "jumkas.plot(kind='line',title='Jumlah Kasus')"
   ]
  },
  {
   "cell_type": "code",
   "execution_count": 23,
   "metadata": {},
   "outputs": [
    {
     "data": {
      "text/plain": [
       "<matplotlib.axes._subplots.AxesSubplot at 0x217a4cbc308>"
      ]
     },
     "execution_count": 23,
     "metadata": {},
     "output_type": "execute_result"
    },
    {
     "data": {
      "image/png": "[encoded data removed]",
      "text/plain": [
       "<Figure size 432x288 with 1 Axes>"
      ]
     },
     "metadata": {
      "needs_background": "light"
     },
     "output_type": "display_data"
    }
   ],
   "source": [
    "jumkem.plot(kind='bar',title='Jumlah Kematian')"
   ]
  },
  {
   "cell_type": "code",
   "execution_count": 24,
   "metadata": {},
   "outputs": [
    {
     "data": {
      "text/plain": [
       "<matplotlib.axes._subplots.AxesSubplot at 0x217a4d11188>"
      ]
     },
     "execution_count": 24,
     "metadata": {},
     "output_type": "execute_result"
    },
    {
     "data": {
      "image/png": "[encoded data removed]",
      "text/plain": [
       "<Figure size 432x288 with 1 Axes>"
      ]
     },
     "metadata": {
      "needs_background": "light"
     },
     "output_type": "display_data"
    }
   ],
   "source": [
    "jumsel.plot(kind='barh',title='Jumlah Selamat')"
   ]
  },
  {
   "cell_type": "code",
   "execution_count": 25,
   "metadata": {},
   "outputs": [
    {
     "data": {
      "text/plain": [
       "<matplotlib.axes._subplots.AxesSubplot at 0x217a4d4c8c8>"
      ]
     },
     "execution_count": 25,
     "metadata": {},
     "output_type": "execute_result"
    },
    {
     "data": {
      "image/png": "[encoded data removed]",
      "text/plain": [
       "<Figure size 432x288 with 1 Axes>"
      ]
     },
     "metadata": {
      "needs_background": "light"
     },
     "output_type": "display_data"
    }
   ],
   "source": [
    "jumkasak.plot(kind='line',title='Jumlah Kasus Aktif')"
   ]
  },
  {
   "cell_type": "markdown",
   "metadata": {},
   "source": [
    "# Zomato\n",
    "\n",
    "key=2cb5e9babe048de8ca3c365796a4e109"
   ]
  },
  {
   "cell_type": "markdown",
   "metadata": {},
   "source": [
    "### Categories"
   ]
  },
  {
   "cell_type": "code",
   "execution_count": 26,
   "metadata": {},
   "outputs": [],
   "source": [
    "url_cat='https://developers.zomato.com/api/v2.1/categories'\n",
    "apikey='2cb5e9babe048de8ca3c365796a4e109'\n",
    "head_info={'user-key':apikey}\n",
    "data_zomat=requests.get(url_cat,headers=head_info)\n",
    "dzo=data_zomat.json()\n"
   ]
  },
  {
   "cell_type": "code",
   "execution_count": 27,
   "metadata": {},
   "outputs": [],
   "source": [
    "cat_list={}\n",
    "for i in dzo['categories']:\n",
    "    cat_list.update({i['categories']['name']:i['categories']['id']})"
   ]
  },
  {
   "cell_type": "markdown",
   "metadata": {},
   "source": [
    "### Search-Cities"
   ]
  },
  {
   "cell_type": "code",
   "execution_count": 28,
   "metadata": {},
   "outputs": [
    {
     "data": {
      "text/plain": [
       "{'location_suggestions': [{'id': 170,\n",
       "   'name': 'Bali',\n",
       "   'country_id': 94,\n",
       "   'country_name': 'Indonesia',\n",
       "   'country_flag_url': 'https://b.zmtcdn.com/images/countries/flags/country_94.png',\n",
       "   'should_experiment_with': 0,\n",
       "   'has_go_out_tab': 0,\n",
       "   'discovery_enabled': 0,\n",
       "   'has_new_ad_format': 1,\n",
       "   'is_state': 0,\n",
       "   'state_id': 0,\n",
       "   'state_name': '',\n",
       "   'state_code': ''},\n",
       "  {'id': 1924,\n",
       "   'name': 'Balingup, WA',\n",
       "   'country_id': 14,\n",
       "   'country_name': 'Australia',\n",
       "   'country_flag_url': 'https://b.zmtcdn.com/images/countries/flags/country_14.png',\n",
       "   'should_experiment_with': 0,\n",
       "   'has_go_out_tab': 0,\n",
       "   'discovery_enabled': 0,\n",
       "   'has_new_ad_format': 0,\n",
       "   'is_state': 0,\n",
       "   'state_id': 133,\n",
       "   'state_name': 'Western Australia',\n",
       "   'state_code': 'WA'}],\n",
       " 'status': 'success',\n",
       " 'has_more': 0,\n",
       " 'has_total': 0,\n",
       " 'user_has_addresses': True}"
      ]
     },
     "execution_count": 28,
     "metadata": {},
     "output_type": "execute_result"
    }
   ],
   "source": [
    "url_cit='https://developers.zomato.com/api/v2.1/cities?q=bali'\n",
    "cit_zom=requests.get(url_cit,headers=head_info).json()\n",
    "cit_zom\n"
   ]
  },
  {
   "cell_type": "markdown",
   "metadata": {},
   "source": [
    "## Buat program dengan alur\n",
    "\n",
    "<img src=\"From Tutor\\zomato.png\">"
   ]
  },
  {
   "cell_type": "code",
   "execution_count": 29,
   "metadata": {
    "tags": []
   },
   "outputs": [],
   "source": [
    "def cari_resto():\n",
    "    url_cat='https://developers.zomato.com/api/v2.1/categories'\n",
    "    apikey='2cb5e9babe048de8ca3c365796a4e109'\n",
    "    head_info={'user-key':apikey}\n",
    "    data_zomat=requests.get(url_cat,headers=head_info)\n",
    "    dzo=data_zomat.json()\n",
    "    cat_list={}\n",
    "    for i in dzo['categories']:\n",
    "        cat_list.update({i['categories']['name']:i['categories']['id']})\n",
    "    out_list=[]\n",
    "    out_dat={}\n",
    "    city=input('Di kota mana anda berada? ')\n",
    "    s_city=requests.get(f'https://developers.zomato.com/api/v2.1/cities?q={city}', headers=head_info).json()\n",
    "    if len(s_city['location_suggestions'])==0:\n",
    "        print(\"Sorry, your City isn't on our database. Try another cities! Thank you :-)\")\n",
    "    else:\n",
    "        based=input(\"seach by: \\n a. Menu\\n b. Restaurant Category \\n*write just a/b: \")\n",
    "        if based.lower()=='a' or based.lower()=='b':\n",
    "            if based.lower()=='a':\n",
    "                menu=input('what do you want to eat: ')\n",
    "                out_dat=requests.get(f\"https://developers.zomato.com/api/v2.1/search?entity_id={s_city['location_suggestions'][0]['id']}&entity_type=city&q={menu}\",headers=head_info).json()\n",
    "            else:\n",
    "                c=[i for i in cat_list.keys()]\n",
    "                print(c)\n",
    "                cate=input('What category do you want: ')\n",
    "                for i in c:\n",
    "                    if cate.lower() in i.lower():\n",
    "                        cate=f'{i}'\n",
    "                    else:\n",
    "                        continue\n",
    "                out_dat=requests.get(f\"https://developers.zomato.com/api/v2.1/search?entity_id={s_city['location_suggestions'][0]['id']}&entity_type=city&category={cate}\",headers=head_info).json()\n",
    "            if len(out_dat)>=1:\n",
    "                for i in out_dat['restaurants']:\n",
    "                    out_list.append({\"Nama Restaurant\": i['restaurant']['name'], 'Alamat' : i['restaurant']['location']['address'], 'No. Telp': i['restaurant']['phone_numbers'], 'harga untuk 2 orang': i['restaurant']['average_cost_for_two'],'waktu buka':i['restaurant']['timings']})\n",
    "            else:\n",
    "                print('server error, coba lain kali :-<')\n",
    "\n",
    "            out_list=pd.DataFrame(out_list)\n",
    "            return out_list\n",
    "        else:\n",
    "            print(\"Sorry, your input was wrong. please input just a or b\")\n"
   ]
  },
  {
   "cell_type": "code",
   "execution_count": 34,
   "metadata": {
    "tags": []
   },
   "outputs": [
    {
     "name": "stdin",
     "output_type": "stream",
     "text": [
      "Di kota mana anda berada?  melbourne\n",
      "seach by: \n",
      " a. Menu\n",
      " b. Restaurant Category \n",
      "*write just a/b:  a\n",
      "what do you want to eat:  martabak\n"
     ]
    },
    {
     "data": {
      "text/html": [
       "<div>\n",
       "<style scoped>\n",
       "    .dataframe tbody tr th:only-of-type {\n",
       "        vertical-align: middle;\n",
       "    }\n",
       "\n",
       "    .dataframe tbody tr th {\n",
       "        vertical-align: top;\n",
       "    }\n",
       "\n",
       "    .dataframe thead th {\n",
       "        text-align: right;\n",
       "    }\n",
       "</style>\n",
       "<table border=\"1\" class=\"dataframe\">\n",
       "  <thead>\n",
       "    <tr style=\"text-align: right;\">\n",
       "      <th></th>\n",
       "      <th>Nama Restaurant</th>\n",
       "      <th>Alamat</th>\n",
       "      <th>No. Telp</th>\n",
       "      <th>harga untuk 2 orang</th>\n",
       "      <th>waktu buka</th>\n",
       "    </tr>\n",
       "  </thead>\n",
       "  <tbody>\n",
       "    <tr>\n",
       "      <th>0</th>\n",
       "      <td>YOI</td>\n",
       "      <td>1/155 Franklin Street, CBD, Melbourne</td>\n",
       "      <td>03 8592 4957</td>\n",
       "      <td>35</td>\n",
       "      <td>11:30 AM to 9 PM (Mon-Thu), 11:30 AM to 10 PM ...</td>\n",
       "    </tr>\n",
       "    <tr>\n",
       "      <th>1</th>\n",
       "      <td>Ayam Penyet RIA</td>\n",
       "      <td>248 Clarendon Street, South Melbourne, Melbourne</td>\n",
       "      <td>03 9077 2947</td>\n",
       "      <td>30</td>\n",
       "      <td>12 Noon to 9 PM</td>\n",
       "    </tr>\n",
       "    <tr>\n",
       "      <th>2</th>\n",
       "      <td>Malaysian Kampung Restaurant</td>\n",
       "      <td>Shop 2, 473A Centre Road, Bentleigh, Melbourne</td>\n",
       "      <td>0433 349 583</td>\n",
       "      <td>40</td>\n",
       "      <td>5:30 PM to 9 PM (Tue), 11:30 AM to 2:30 PM, 5:...</td>\n",
       "    </tr>\n",
       "    <tr>\n",
       "      <th>3</th>\n",
       "      <td>Ayam Penyet Ria</td>\n",
       "      <td>25 Douglas Street, Noble Park, Melbourne</td>\n",
       "      <td>03 8524 2667</td>\n",
       "      <td>30</td>\n",
       "      <td>12 Noon to 9 PM (Mon-Wed), 11 AM to 9 PM (Thu-...</td>\n",
       "    </tr>\n",
       "    <tr>\n",
       "      <th>4</th>\n",
       "      <td>Marhaba Restaurant</td>\n",
       "      <td>Shop 2A/22 Mc Kimmies Road, Lalor, Melbourne, VIC</td>\n",
       "      <td>0403 058 446, 03 9466 3596</td>\n",
       "      <td>30</td>\n",
       "      <td>11 AM to 10 PM (Mon-Fri), 10 AM to 10 PM (Sat-...</td>\n",
       "    </tr>\n",
       "  </tbody>\n",
       "</table>\n",
       "</div>"
      ],
      "text/plain": [
       "                Nama Restaurant  \\\n",
       "0                           YOI   \n",
       "1               Ayam Penyet RIA   \n",
       "2  Malaysian Kampung Restaurant   \n",
       "3               Ayam Penyet Ria   \n",
       "4            Marhaba Restaurant   \n",
       "\n",
       "                                              Alamat  \\\n",
       "0              1/155 Franklin Street, CBD, Melbourne   \n",
       "1   248 Clarendon Street, South Melbourne, Melbourne   \n",
       "2     Shop 2, 473A Centre Road, Bentleigh, Melbourne   \n",
       "3           25 Douglas Street, Noble Park, Melbourne   \n",
       "4  Shop 2A/22 Mc Kimmies Road, Lalor, Melbourne, VIC   \n",
       "\n",
       "                     No. Telp  harga untuk 2 orang  \\\n",
       "0                03 8592 4957                   35   \n",
       "1                03 9077 2947                   30   \n",
       "2                0433 349 583                   40   \n",
       "3                03 8524 2667                   30   \n",
       "4  0403 058 446, 03 9466 3596                   30   \n",
       "\n",
       "                                          waktu buka  \n",
       "0  11:30 AM to 9 PM (Mon-Thu), 11:30 AM to 10 PM ...  \n",
       "1                                    12 Noon to 9 PM  \n",
       "2  5:30 PM to 9 PM (Tue), 11:30 AM to 2:30 PM, 5:...  \n",
       "3  12 Noon to 9 PM (Mon-Wed), 11 AM to 9 PM (Thu-...  \n",
       "4  11 AM to 10 PM (Mon-Fri), 10 AM to 10 PM (Sat-...  "
      ]
     },
     "execution_count": 34,
     "metadata": {},
     "output_type": "execute_result"
    }
   ],
   "source": [
    "cari_resto()"
   ]
  }
 ],
 "metadata": {
  "kernelspec": {
   "display_name": "Python 3",
   "language": "python",
   "name": "python3"
  },
  "language_info": {
   "codemirror_mode": {
    "name": "ipython",
    "version": 3
   },
   "file_extension": ".py",
   "mimetype": "text/x-python",
   "name": "python",
   "nbconvert_exporter": "python",
   "pygments_lexer": "ipython3",
   "version": "3.7.7"
  }
 },
 "nbformat": 4,
 "nbformat_minor": 4
}
