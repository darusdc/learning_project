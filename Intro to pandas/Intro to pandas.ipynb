{
 "cells": [
  {
   "cell_type": "markdown",
   "metadata": {},
   "source": [
    "## Pandas\n",
    "type data series, dataframe\n",
    "series=sebuah deret data\n",
    "dataframe=2 dimensi array"
   ]
  },
  {
   "cell_type": "code",
   "execution_count": 1,
   "metadata": {},
   "outputs": [],
   "source": [
    "import numpy as np\n",
    "import pandas as pd\n",
    "from functools import reduce\n",
    "import statistics"
   ]
  },
  {
   "cell_type": "code",
   "execution_count": 2,
   "metadata": {},
   "outputs": [
    {
     "output_type": "execute_result",
     "data": {
      "text/plain": "Series([], dtype: float64)"
     },
     "metadata": {},
     "execution_count": 2
    }
   ],
   "source": [
    "pd.Series()"
   ]
  },
  {
   "cell_type": "markdown",
   "metadata": {},
   "source": [
    "## Challange"
   ]
  },
  {
   "cell_type": "code",
   "execution_count": 3,
   "metadata": {},
   "outputs": [
    {
     "output_type": "execute_result",
     "data": {
      "text/plain": "            1     2     3     4     5     6     7     8     9     10    11  \\\nscreen    1936  1643  1059  1190  1741  1382  1585  1606  1451  1028  1167   \nmouse     1549  1114  1712  1440  1545  1220  1937  1811  1933  1737  1262   \nspeaker   1841  1631  1592  1454  1952  1013  1068  1341  1934  1527  1241   \nkeyboard  1921  1379  1076  1991  1365  1860  1201  1293  1544  1296  1090   \nVGA       1393  1707  1247  1622  1360  1451  1338  1847  1149  1351  1981   \n\n            12  \nscreen    1050  \nmouse     1807  \nspeaker   1661  \nkeyboard  1579  \nVGA       1629  ",
      "text/html": "<div>\n<style scoped>\n    .dataframe tbody tr th:only-of-type {\n        vertical-align: middle;\n    }\n\n    .dataframe tbody tr th {\n        vertical-align: top;\n    }\n\n    .dataframe thead th {\n        text-align: right;\n    }\n</style>\n<table border=\"1\" class=\"dataframe\">\n  <thead>\n    <tr style=\"text-align: right;\">\n      <th></th>\n      <th>1</th>\n      <th>2</th>\n      <th>3</th>\n      <th>4</th>\n      <th>5</th>\n      <th>6</th>\n      <th>7</th>\n      <th>8</th>\n      <th>9</th>\n      <th>10</th>\n      <th>11</th>\n      <th>12</th>\n    </tr>\n  </thead>\n  <tbody>\n    <tr>\n      <th>screen</th>\n      <td>1936</td>\n      <td>1643</td>\n      <td>1059</td>\n      <td>1190</td>\n      <td>1741</td>\n      <td>1382</td>\n      <td>1585</td>\n      <td>1606</td>\n      <td>1451</td>\n      <td>1028</td>\n      <td>1167</td>\n      <td>1050</td>\n    </tr>\n    <tr>\n      <th>mouse</th>\n      <td>1549</td>\n      <td>1114</td>\n      <td>1712</td>\n      <td>1440</td>\n      <td>1545</td>\n      <td>1220</td>\n      <td>1937</td>\n      <td>1811</td>\n      <td>1933</td>\n      <td>1737</td>\n      <td>1262</td>\n      <td>1807</td>\n    </tr>\n    <tr>\n      <th>speaker</th>\n      <td>1841</td>\n      <td>1631</td>\n      <td>1592</td>\n      <td>1454</td>\n      <td>1952</td>\n      <td>1013</td>\n      <td>1068</td>\n      <td>1341</td>\n      <td>1934</td>\n      <td>1527</td>\n      <td>1241</td>\n      <td>1661</td>\n    </tr>\n    <tr>\n      <th>keyboard</th>\n      <td>1921</td>\n      <td>1379</td>\n      <td>1076</td>\n      <td>1991</td>\n      <td>1365</td>\n      <td>1860</td>\n      <td>1201</td>\n      <td>1293</td>\n      <td>1544</td>\n      <td>1296</td>\n      <td>1090</td>\n      <td>1579</td>\n    </tr>\n    <tr>\n      <th>VGA</th>\n      <td>1393</td>\n      <td>1707</td>\n      <td>1247</td>\n      <td>1622</td>\n      <td>1360</td>\n      <td>1451</td>\n      <td>1338</td>\n      <td>1847</td>\n      <td>1149</td>\n      <td>1351</td>\n      <td>1981</td>\n      <td>1629</td>\n    </tr>\n  </tbody>\n</table>\n</div>"
     },
     "metadata": {},
     "execution_count": 3
    }
   ],
   "source": [
    "a=np.random.randint(1000,2000,(5,12))\n",
    "df=pd.DataFrame(a, columns=np.arange(1,13), index='screen mouse speaker keyboard VGA'.split())\n",
    "df"
   ]
  },
  {
   "cell_type": "code",
   "execution_count": 4,
   "metadata": {},
   "outputs": [
    {
     "output_type": "execute_result",
     "data": {
      "text/plain": "                1           2            3            4            5   \\\n                                                                        \nCount     5.000000     5.00000     5.000000     5.000000     5.000000   \nMean   1728.000000  1494.80000  1337.200000  1539.400000  1592.600000   \nSTD     243.694481   246.96194   299.647626   295.812103   254.637586   \nmin    1393.000000  1114.00000  1059.000000  1190.000000  1360.000000   \nmax    1936.000000  1707.00000  1712.000000  1991.000000  1952.000000   \n\n                6            7            8            9           10  \\\n                                                                        \nCount     5.000000     5.000000     5.000000     5.000000     5.00000   \nMean   1385.200000  1425.800000  1579.600000  1602.200000  1387.80000   \nSTD     314.483227   343.851276   257.300991   335.841778   264.83712   \nmin    1013.000000  1068.000000  1293.000000  1149.000000  1028.00000   \nmax    1860.000000  1937.000000  1847.000000  1934.000000  1737.00000   \n\n               11           12  \n                                \nCount     5.00000     5.000000  \nMean   1348.20000  1545.200000  \nSTD     360.15927   289.541361  \nmin    1090.00000  1050.000000  \nmax    1981.00000  1807.000000  ",
      "text/html": "<div>\n<style scoped>\n    .dataframe tbody tr th:only-of-type {\n        vertical-align: middle;\n    }\n\n    .dataframe tbody tr th {\n        vertical-align: top;\n    }\n\n    .dataframe thead th {\n        text-align: right;\n    }\n</style>\n<table border=\"1\" class=\"dataframe\">\n  <thead>\n    <tr style=\"text-align: right;\">\n      <th></th>\n      <th>1</th>\n      <th>2</th>\n      <th>3</th>\n      <th>4</th>\n      <th>5</th>\n      <th>6</th>\n      <th>7</th>\n      <th>8</th>\n      <th>9</th>\n      <th>10</th>\n      <th>11</th>\n      <th>12</th>\n    </tr>\n    <tr>\n      <th></th>\n      <th></th>\n      <th></th>\n      <th></th>\n      <th></th>\n      <th></th>\n      <th></th>\n      <th></th>\n      <th></th>\n      <th></th>\n      <th></th>\n      <th></th>\n      <th></th>\n    </tr>\n  </thead>\n  <tbody>\n    <tr>\n      <th>Count</th>\n      <td>5.000000</td>\n      <td>5.00000</td>\n      <td>5.000000</td>\n      <td>5.000000</td>\n      <td>5.000000</td>\n      <td>5.000000</td>\n      <td>5.000000</td>\n      <td>5.000000</td>\n      <td>5.000000</td>\n      <td>5.00000</td>\n      <td>5.00000</td>\n      <td>5.000000</td>\n    </tr>\n    <tr>\n      <th>Mean</th>\n      <td>1728.000000</td>\n      <td>1494.80000</td>\n      <td>1337.200000</td>\n      <td>1539.400000</td>\n      <td>1592.600000</td>\n      <td>1385.200000</td>\n      <td>1425.800000</td>\n      <td>1579.600000</td>\n      <td>1602.200000</td>\n      <td>1387.80000</td>\n      <td>1348.20000</td>\n      <td>1545.200000</td>\n    </tr>\n    <tr>\n      <th>STD</th>\n      <td>243.694481</td>\n      <td>246.96194</td>\n      <td>299.647626</td>\n      <td>295.812103</td>\n      <td>254.637586</td>\n      <td>314.483227</td>\n      <td>343.851276</td>\n      <td>257.300991</td>\n      <td>335.841778</td>\n      <td>264.83712</td>\n      <td>360.15927</td>\n      <td>289.541361</td>\n    </tr>\n    <tr>\n      <th>min</th>\n      <td>1393.000000</td>\n      <td>1114.00000</td>\n      <td>1059.000000</td>\n      <td>1190.000000</td>\n      <td>1360.000000</td>\n      <td>1013.000000</td>\n      <td>1068.000000</td>\n      <td>1293.000000</td>\n      <td>1149.000000</td>\n      <td>1028.00000</td>\n      <td>1090.00000</td>\n      <td>1050.000000</td>\n    </tr>\n    <tr>\n      <th>max</th>\n      <td>1936.000000</td>\n      <td>1707.00000</td>\n      <td>1712.000000</td>\n      <td>1991.000000</td>\n      <td>1952.000000</td>\n      <td>1860.000000</td>\n      <td>1937.000000</td>\n      <td>1847.000000</td>\n      <td>1934.000000</td>\n      <td>1737.00000</td>\n      <td>1981.00000</td>\n      <td>1807.000000</td>\n    </tr>\n  </tbody>\n</table>\n</div>"
     },
     "metadata": {},
     "execution_count": 4
    }
   ],
   "source": [
    "dfn=pd.DataFrame()\n",
    "for i in df.columns:\n",
    "    count=len(df[i])\n",
    "    daft= list(df[i][:])\n",
    "    mean= reduce(lambda a,b:a+b,daft)/count\n",
    "    std= statistics.stdev(daft)\n",
    "    mini=min(daft)\n",
    "    maxi=max(daft)\n",
    "    dfn[i]=list([count,mean,std,mini,maxi])\n",
    "dfn[\" \"]='Count Mean STD min max'.split()\n",
    "dfn.set_index(\" \",inplace=True)\n",
    "dfn"
   ]
  },
  {
   "cell_type": "code",
   "execution_count": 5,
   "metadata": {
    "scrolled": true
   },
   "outputs": [
    {
     "output_type": "execute_result",
     "data": {
      "text/plain": "                1           2            3            4            5   \\\ncount     5.000000     5.00000     5.000000     5.000000     5.000000   \nmean   1728.000000  1494.80000  1337.200000  1539.400000  1592.600000   \nstd     243.694481   246.96194   299.647626   295.812103   254.637586   \nmin    1393.000000  1114.00000  1059.000000  1190.000000  1360.000000   \n25%    1549.000000  1379.00000  1076.000000  1440.000000  1365.000000   \n50%    1841.000000  1631.00000  1247.000000  1454.000000  1545.000000   \n75%    1921.000000  1643.00000  1592.000000  1622.000000  1741.000000   \nmax    1936.000000  1707.00000  1712.000000  1991.000000  1952.000000   \n\n                6            7            8            9           10  \\\ncount     5.000000     5.000000     5.000000     5.000000     5.00000   \nmean   1385.200000  1425.800000  1579.600000  1602.200000  1387.80000   \nstd     314.483227   343.851276   257.300991   335.841778   264.83712   \nmin    1013.000000  1068.000000  1293.000000  1149.000000  1028.00000   \n25%    1220.000000  1201.000000  1341.000000  1451.000000  1296.00000   \n50%    1382.000000  1338.000000  1606.000000  1544.000000  1351.00000   \n75%    1451.000000  1585.000000  1811.000000  1933.000000  1527.00000   \nmax    1860.000000  1937.000000  1847.000000  1934.000000  1737.00000   \n\n               11           12  \ncount     5.00000     5.000000  \nmean   1348.20000  1545.200000  \nstd     360.15927   289.541361  \nmin    1090.00000  1050.000000  \n25%    1167.00000  1579.000000  \n50%    1241.00000  1629.000000  \n75%    1262.00000  1661.000000  \nmax    1981.00000  1807.000000  ",
      "text/html": "<div>\n<style scoped>\n    .dataframe tbody tr th:only-of-type {\n        vertical-align: middle;\n    }\n\n    .dataframe tbody tr th {\n        vertical-align: top;\n    }\n\n    .dataframe thead th {\n        text-align: right;\n    }\n</style>\n<table border=\"1\" class=\"dataframe\">\n  <thead>\n    <tr style=\"text-align: right;\">\n      <th></th>\n      <th>1</th>\n      <th>2</th>\n      <th>3</th>\n      <th>4</th>\n      <th>5</th>\n      <th>6</th>\n      <th>7</th>\n      <th>8</th>\n      <th>9</th>\n      <th>10</th>\n      <th>11</th>\n      <th>12</th>\n    </tr>\n  </thead>\n  <tbody>\n    <tr>\n      <th>count</th>\n      <td>5.000000</td>\n      <td>5.00000</td>\n      <td>5.000000</td>\n      <td>5.000000</td>\n      <td>5.000000</td>\n      <td>5.000000</td>\n      <td>5.000000</td>\n      <td>5.000000</td>\n      <td>5.000000</td>\n      <td>5.00000</td>\n      <td>5.00000</td>\n      <td>5.000000</td>\n    </tr>\n    <tr>\n      <th>mean</th>\n      <td>1728.000000</td>\n      <td>1494.80000</td>\n      <td>1337.200000</td>\n      <td>1539.400000</td>\n      <td>1592.600000</td>\n      <td>1385.200000</td>\n      <td>1425.800000</td>\n      <td>1579.600000</td>\n      <td>1602.200000</td>\n      <td>1387.80000</td>\n      <td>1348.20000</td>\n      <td>1545.200000</td>\n    </tr>\n    <tr>\n      <th>std</th>\n      <td>243.694481</td>\n      <td>246.96194</td>\n      <td>299.647626</td>\n      <td>295.812103</td>\n      <td>254.637586</td>\n      <td>314.483227</td>\n      <td>343.851276</td>\n      <td>257.300991</td>\n      <td>335.841778</td>\n      <td>264.83712</td>\n      <td>360.15927</td>\n      <td>289.541361</td>\n    </tr>\n    <tr>\n      <th>min</th>\n      <td>1393.000000</td>\n      <td>1114.00000</td>\n      <td>1059.000000</td>\n      <td>1190.000000</td>\n      <td>1360.000000</td>\n      <td>1013.000000</td>\n      <td>1068.000000</td>\n      <td>1293.000000</td>\n      <td>1149.000000</td>\n      <td>1028.00000</td>\n      <td>1090.00000</td>\n      <td>1050.000000</td>\n    </tr>\n    <tr>\n      <th>25%</th>\n      <td>1549.000000</td>\n      <td>1379.00000</td>\n      <td>1076.000000</td>\n      <td>1440.000000</td>\n      <td>1365.000000</td>\n      <td>1220.000000</td>\n      <td>1201.000000</td>\n      <td>1341.000000</td>\n      <td>1451.000000</td>\n      <td>1296.00000</td>\n      <td>1167.00000</td>\n      <td>1579.000000</td>\n    </tr>\n    <tr>\n      <th>50%</th>\n      <td>1841.000000</td>\n      <td>1631.00000</td>\n      <td>1247.000000</td>\n      <td>1454.000000</td>\n      <td>1545.000000</td>\n      <td>1382.000000</td>\n      <td>1338.000000</td>\n      <td>1606.000000</td>\n      <td>1544.000000</td>\n      <td>1351.00000</td>\n      <td>1241.00000</td>\n      <td>1629.000000</td>\n    </tr>\n    <tr>\n      <th>75%</th>\n      <td>1921.000000</td>\n      <td>1643.00000</td>\n      <td>1592.000000</td>\n      <td>1622.000000</td>\n      <td>1741.000000</td>\n      <td>1451.000000</td>\n      <td>1585.000000</td>\n      <td>1811.000000</td>\n      <td>1933.000000</td>\n      <td>1527.00000</td>\n      <td>1262.00000</td>\n      <td>1661.000000</td>\n    </tr>\n    <tr>\n      <th>max</th>\n      <td>1936.000000</td>\n      <td>1707.00000</td>\n      <td>1712.000000</td>\n      <td>1991.000000</td>\n      <td>1952.000000</td>\n      <td>1860.000000</td>\n      <td>1937.000000</td>\n      <td>1847.000000</td>\n      <td>1934.000000</td>\n      <td>1737.00000</td>\n      <td>1981.00000</td>\n      <td>1807.000000</td>\n    </tr>\n  </tbody>\n</table>\n</div>"
     },
     "metadata": {},
     "execution_count": 5
    }
   ],
   "source": [
    "df.describe()"
   ]
  },
  {
   "cell_type": "markdown",
   "metadata": {},
   "source": [
    "# Removing Row and Col"
   ]
  },
  {
   "cell_type": "code",
   "execution_count": 6,
   "metadata": {},
   "outputs": [
    {
     "output_type": "execute_result",
     "data": {
      "text/plain": "         Januari  Februari  Maret\nJakarta        1         2      3\nBandung        4         5      6\nBekasi         7         8      9",
      "text/html": "<div>\n<style scoped>\n    .dataframe tbody tr th:only-of-type {\n        vertical-align: middle;\n    }\n\n    .dataframe tbody tr th {\n        vertical-align: top;\n    }\n\n    .dataframe thead th {\n        text-align: right;\n    }\n</style>\n<table border=\"1\" class=\"dataframe\">\n  <thead>\n    <tr style=\"text-align: right;\">\n      <th></th>\n      <th>Januari</th>\n      <th>Februari</th>\n      <th>Maret</th>\n    </tr>\n  </thead>\n  <tbody>\n    <tr>\n      <th>Jakarta</th>\n      <td>1</td>\n      <td>2</td>\n      <td>3</td>\n    </tr>\n    <tr>\n      <th>Bandung</th>\n      <td>4</td>\n      <td>5</td>\n      <td>6</td>\n    </tr>\n    <tr>\n      <th>Bekasi</th>\n      <td>7</td>\n      <td>8</td>\n      <td>9</td>\n    </tr>\n  </tbody>\n</table>\n</div>"
     },
     "metadata": {},
     "execution_count": 6
    }
   ],
   "source": [
    "kota = pd.DataFrame(data=np.array([[1,2,3], [4,5,6], [7,8,9]]),\n",
    "                 index=('Jakarta', 'Bandung', 'Bekasi'),\n",
    "                 columns='Januari Februari Maret'.split())\n",
    "kota"
   ]
  },
  {
   "cell_type": "code",
   "execution_count": 7,
   "metadata": {},
   "outputs": [
    {
     "output_type": "execute_result",
     "data": {
      "text/plain": "         Januari  Februari  Maret  total\nJakarta        1         2      3      3\nBandung        4         5      6     24\nBekasi         7         8      9     63",
      "text/html": "<div>\n<style scoped>\n    .dataframe tbody tr th:only-of-type {\n        vertical-align: middle;\n    }\n\n    .dataframe tbody tr th {\n        vertical-align: top;\n    }\n\n    .dataframe thead th {\n        text-align: right;\n    }\n</style>\n<table border=\"1\" class=\"dataframe\">\n  <thead>\n    <tr style=\"text-align: right;\">\n      <th></th>\n      <th>Januari</th>\n      <th>Februari</th>\n      <th>Maret</th>\n      <th>total</th>\n    </tr>\n  </thead>\n  <tbody>\n    <tr>\n      <th>Jakarta</th>\n      <td>1</td>\n      <td>2</td>\n      <td>3</td>\n      <td>3</td>\n    </tr>\n    <tr>\n      <th>Bandung</th>\n      <td>4</td>\n      <td>5</td>\n      <td>6</td>\n      <td>24</td>\n    </tr>\n    <tr>\n      <th>Bekasi</th>\n      <td>7</td>\n      <td>8</td>\n      <td>9</td>\n      <td>63</td>\n    </tr>\n  </tbody>\n</table>\n</div>"
     },
     "metadata": {},
     "execution_count": 7
    }
   ],
   "source": [
    "kota['total']=kota['Januari']*kota['Maret']\n",
    "kota"
   ]
  },
  {
   "cell_type": "code",
   "execution_count": 8,
   "metadata": {},
   "outputs": [
    {
     "output_type": "execute_result",
     "data": {
      "text/plain": "         Januari  Februari  Maret\nJakarta        1         2      3\nBandung        4         5      6\nBekasi         7         8      9",
      "text/html": "<div>\n<style scoped>\n    .dataframe tbody tr th:only-of-type {\n        vertical-align: middle;\n    }\n\n    .dataframe tbody tr th {\n        vertical-align: top;\n    }\n\n    .dataframe thead th {\n        text-align: right;\n    }\n</style>\n<table border=\"1\" class=\"dataframe\">\n  <thead>\n    <tr style=\"text-align: right;\">\n      <th></th>\n      <th>Januari</th>\n      <th>Februari</th>\n      <th>Maret</th>\n    </tr>\n  </thead>\n  <tbody>\n    <tr>\n      <th>Jakarta</th>\n      <td>1</td>\n      <td>2</td>\n      <td>3</td>\n    </tr>\n    <tr>\n      <th>Bandung</th>\n      <td>4</td>\n      <td>5</td>\n      <td>6</td>\n    </tr>\n    <tr>\n      <th>Bekasi</th>\n      <td>7</td>\n      <td>8</td>\n      <td>9</td>\n    </tr>\n  </tbody>\n</table>\n</div>"
     },
     "metadata": {},
     "execution_count": 8
    }
   ],
   "source": [
    "kota.drop('total',1)"
   ]
  },
  {
   "cell_type": "markdown",
   "metadata": {},
   "source": [
    "# Selection"
   ]
  },
  {
   "cell_type": "code",
   "execution_count": 9,
   "metadata": {},
   "outputs": [
    {
     "output_type": "execute_result",
     "data": {
      "text/plain": "9"
     },
     "metadata": {},
     "execution_count": 9
    }
   ],
   "source": [
    "kota.iloc[2,2]"
   ]
  },
  {
   "cell_type": "code",
   "execution_count": 10,
   "metadata": {},
   "outputs": [
    {
     "output_type": "execute_result",
     "data": {
      "text/plain": "3"
     },
     "metadata": {},
     "execution_count": 10
    }
   ],
   "source": [
    "kota.loc[\"Jakarta\", \"Maret\"]"
   ]
  },
  {
   "cell_type": "code",
   "execution_count": 11,
   "metadata": {},
   "outputs": [
    {
     "output_type": "execute_result",
     "data": {
      "text/plain": "         Januari  Februari\nJakarta        1         2\nBandung        4         5",
      "text/html": "<div>\n<style scoped>\n    .dataframe tbody tr th:only-of-type {\n        vertical-align: middle;\n    }\n\n    .dataframe tbody tr th {\n        vertical-align: top;\n    }\n\n    .dataframe thead th {\n        text-align: right;\n    }\n</style>\n<table border=\"1\" class=\"dataframe\">\n  <thead>\n    <tr style=\"text-align: right;\">\n      <th></th>\n      <th>Januari</th>\n      <th>Februari</th>\n    </tr>\n  </thead>\n  <tbody>\n    <tr>\n      <th>Jakarta</th>\n      <td>1</td>\n      <td>2</td>\n    </tr>\n    <tr>\n      <th>Bandung</th>\n      <td>4</td>\n      <td>5</td>\n    </tr>\n  </tbody>\n</table>\n</div>"
     },
     "metadata": {},
     "execution_count": 11
    }
   ],
   "source": [
    "kota.iloc[:2,:2]"
   ]
  },
  {
   "cell_type": "code",
   "execution_count": 12,
   "metadata": {},
   "outputs": [
    {
     "output_type": "execute_result",
     "data": {
      "text/plain": "         Januari  Februari\nJakarta        1         2\nBandung        4         5",
      "text/html": "<div>\n<style scoped>\n    .dataframe tbody tr th:only-of-type {\n        vertical-align: middle;\n    }\n\n    .dataframe tbody tr th {\n        vertical-align: top;\n    }\n\n    .dataframe thead th {\n        text-align: right;\n    }\n</style>\n<table border=\"1\" class=\"dataframe\">\n  <thead>\n    <tr style=\"text-align: right;\">\n      <th></th>\n      <th>Januari</th>\n      <th>Februari</th>\n    </tr>\n  </thead>\n  <tbody>\n    <tr>\n      <th>Jakarta</th>\n      <td>1</td>\n      <td>2</td>\n    </tr>\n    <tr>\n      <th>Bandung</th>\n      <td>4</td>\n      <td>5</td>\n    </tr>\n  </tbody>\n</table>\n</div>"
     },
     "metadata": {},
     "execution_count": 12
    }
   ],
   "source": [
    "kota.loc[\"Jakarta\":\"Bandung\",\"Januari\":\"Februari\"]"
   ]
  },
  {
   "cell_type": "code",
   "execution_count": 13,
   "metadata": {},
   "outputs": [
    {
     "output_type": "execute_result",
     "data": {
      "text/plain": "3"
     },
     "metadata": {},
     "execution_count": 13
    }
   ],
   "source": [
    "kota[\"Maret\"][0]"
   ]
  },
  {
   "cell_type": "code",
   "execution_count": 14,
   "metadata": {},
   "outputs": [
    {
     "output_type": "execute_result",
     "data": {
      "text/plain": "         Januari  Maret\nJakarta        1      3\nBekasi         7      9",
      "text/html": "<div>\n<style scoped>\n    .dataframe tbody tr th:only-of-type {\n        vertical-align: middle;\n    }\n\n    .dataframe tbody tr th {\n        vertical-align: top;\n    }\n\n    .dataframe thead th {\n        text-align: right;\n    }\n</style>\n<table border=\"1\" class=\"dataframe\">\n  <thead>\n    <tr style=\"text-align: right;\">\n      <th></th>\n      <th>Januari</th>\n      <th>Maret</th>\n    </tr>\n  </thead>\n  <tbody>\n    <tr>\n      <th>Jakarta</th>\n      <td>1</td>\n      <td>3</td>\n    </tr>\n    <tr>\n      <th>Bekasi</th>\n      <td>7</td>\n      <td>9</td>\n    </tr>\n  </tbody>\n</table>\n</div>"
     },
     "metadata": {},
     "execution_count": 14
    }
   ],
   "source": [
    "kota.iloc[[0,2],[0,2]]"
   ]
  },
  {
   "cell_type": "code",
   "execution_count": 15,
   "metadata": {},
   "outputs": [
    {
     "output_type": "execute_result",
     "data": {
      "text/plain": "         Januari  Februari  Maret  total\nJakarta        1         2      3      3",
      "text/html": "<div>\n<style scoped>\n    .dataframe tbody tr th:only-of-type {\n        vertical-align: middle;\n    }\n\n    .dataframe tbody tr th {\n        vertical-align: top;\n    }\n\n    .dataframe thead th {\n        text-align: right;\n    }\n</style>\n<table border=\"1\" class=\"dataframe\">\n  <thead>\n    <tr style=\"text-align: right;\">\n      <th></th>\n      <th>Januari</th>\n      <th>Februari</th>\n      <th>Maret</th>\n      <th>total</th>\n    </tr>\n  </thead>\n  <tbody>\n    <tr>\n      <th>Jakarta</th>\n      <td>1</td>\n      <td>2</td>\n      <td>3</td>\n      <td>3</td>\n    </tr>\n  </tbody>\n</table>\n</div>"
     },
     "metadata": {},
     "execution_count": 15
    }
   ],
   "source": [
    "kota.iloc[:1]\n",
    "kota.iloc[[0]]"
   ]
  },
  {
   "cell_type": "code",
   "execution_count": 16,
   "metadata": {},
   "outputs": [
    {
     "output_type": "execute_result",
     "data": {
      "text/plain": "         Januari  Februari  Maret  total\nJakarta        1         2      3      3",
      "text/html": "<div>\n<style scoped>\n    .dataframe tbody tr th:only-of-type {\n        vertical-align: middle;\n    }\n\n    .dataframe tbody tr th {\n        vertical-align: top;\n    }\n\n    .dataframe thead th {\n        text-align: right;\n    }\n</style>\n<table border=\"1\" class=\"dataframe\">\n  <thead>\n    <tr style=\"text-align: right;\">\n      <th></th>\n      <th>Januari</th>\n      <th>Februari</th>\n      <th>Maret</th>\n      <th>total</th>\n    </tr>\n  </thead>\n  <tbody>\n    <tr>\n      <th>Jakarta</th>\n      <td>1</td>\n      <td>2</td>\n      <td>3</td>\n      <td>3</td>\n    </tr>\n  </tbody>\n</table>\n</div>"
     },
     "metadata": {},
     "execution_count": 16
    }
   ],
   "source": [
    "kota.loc[['Jakarta']]"
   ]
  },
  {
   "cell_type": "markdown",
   "metadata": {},
   "source": [
    "## Conditional Selection"
   ]
  },
  {
   "cell_type": "code",
   "execution_count": 17,
   "metadata": {},
   "outputs": [
    {
     "output_type": "execute_result",
     "data": {
      "text/plain": "         Januari  Februari  Maret  total\nJakarta        1         2      3      3\nBandung        4         5      6     24\nBekasi         7         8      9     63",
      "text/html": "<div>\n<style scoped>\n    .dataframe tbody tr th:only-of-type {\n        vertical-align: middle;\n    }\n\n    .dataframe tbody tr th {\n        vertical-align: top;\n    }\n\n    .dataframe thead th {\n        text-align: right;\n    }\n</style>\n<table border=\"1\" class=\"dataframe\">\n  <thead>\n    <tr style=\"text-align: right;\">\n      <th></th>\n      <th>Januari</th>\n      <th>Februari</th>\n      <th>Maret</th>\n      <th>total</th>\n    </tr>\n  </thead>\n  <tbody>\n    <tr>\n      <th>Jakarta</th>\n      <td>1</td>\n      <td>2</td>\n      <td>3</td>\n      <td>3</td>\n    </tr>\n    <tr>\n      <th>Bandung</th>\n      <td>4</td>\n      <td>5</td>\n      <td>6</td>\n      <td>24</td>\n    </tr>\n    <tr>\n      <th>Bekasi</th>\n      <td>7</td>\n      <td>8</td>\n      <td>9</td>\n      <td>63</td>\n    </tr>\n  </tbody>\n</table>\n</div>"
     },
     "metadata": {},
     "execution_count": 17
    }
   ],
   "source": [
    "kota"
   ]
  },
  {
   "cell_type": "code",
   "execution_count": 18,
   "metadata": {},
   "outputs": [
    {
     "output_type": "execute_result",
     "data": {
      "text/plain": "         Januari  Februari  Maret  total\nJakarta    False     False  False  False\nBandung     True      True   True   True\nBekasi      True      True   True   True",
      "text/html": "<div>\n<style scoped>\n    .dataframe tbody tr th:only-of-type {\n        vertical-align: middle;\n    }\n\n    .dataframe tbody tr th {\n        vertical-align: top;\n    }\n\n    .dataframe thead th {\n        text-align: right;\n    }\n</style>\n<table border=\"1\" class=\"dataframe\">\n  <thead>\n    <tr style=\"text-align: right;\">\n      <th></th>\n      <th>Januari</th>\n      <th>Februari</th>\n      <th>Maret</th>\n      <th>total</th>\n    </tr>\n  </thead>\n  <tbody>\n    <tr>\n      <th>Jakarta</th>\n      <td>False</td>\n      <td>False</td>\n      <td>False</td>\n      <td>False</td>\n    </tr>\n    <tr>\n      <th>Bandung</th>\n      <td>True</td>\n      <td>True</td>\n      <td>True</td>\n      <td>True</td>\n    </tr>\n    <tr>\n      <th>Bekasi</th>\n      <td>True</td>\n      <td>True</td>\n      <td>True</td>\n      <td>True</td>\n    </tr>\n  </tbody>\n</table>\n</div>"
     },
     "metadata": {},
     "execution_count": 18
    }
   ],
   "source": [
    "kota>3"
   ]
  },
  {
   "cell_type": "code",
   "execution_count": 19,
   "metadata": {},
   "outputs": [
    {
     "output_type": "execute_result",
     "data": {
      "text/plain": "         Januari  Februari  Maret  total\nBandung        4         5      6     24\nBekasi         7         8      9     63",
      "text/html": "<div>\n<style scoped>\n    .dataframe tbody tr th:only-of-type {\n        vertical-align: middle;\n    }\n\n    .dataframe tbody tr th {\n        vertical-align: top;\n    }\n\n    .dataframe thead th {\n        text-align: right;\n    }\n</style>\n<table border=\"1\" class=\"dataframe\">\n  <thead>\n    <tr style=\"text-align: right;\">\n      <th></th>\n      <th>Januari</th>\n      <th>Februari</th>\n      <th>Maret</th>\n      <th>total</th>\n    </tr>\n  </thead>\n  <tbody>\n    <tr>\n      <th>Bandung</th>\n      <td>4</td>\n      <td>5</td>\n      <td>6</td>\n      <td>24</td>\n    </tr>\n    <tr>\n      <th>Bekasi</th>\n      <td>7</td>\n      <td>8</td>\n      <td>9</td>\n      <td>63</td>\n    </tr>\n  </tbody>\n</table>\n</div>"
     },
     "metadata": {},
     "execution_count": 19
    }
   ],
   "source": [
    "kota[kota['Januari']>3]"
   ]
  },
  {
   "cell_type": "code",
   "execution_count": 20,
   "metadata": {},
   "outputs": [
    {
     "output_type": "execute_result",
     "data": {
      "text/plain": "Bandung    4\nBekasi     7\nName: Januari, dtype: int32"
     },
     "metadata": {},
     "execution_count": 20
    }
   ],
   "source": [
    "kota[kota['Januari']>3][\"Januari\"]"
   ]
  },
  {
   "cell_type": "code",
   "execution_count": 21,
   "metadata": {},
   "outputs": [
    {
     "output_type": "execute_result",
     "data": {
      "text/plain": "         Januari\nBandung        4\nBekasi         7",
      "text/html": "<div>\n<style scoped>\n    .dataframe tbody tr th:only-of-type {\n        vertical-align: middle;\n    }\n\n    .dataframe tbody tr th {\n        vertical-align: top;\n    }\n\n    .dataframe thead th {\n        text-align: right;\n    }\n</style>\n<table border=\"1\" class=\"dataframe\">\n  <thead>\n    <tr style=\"text-align: right;\">\n      <th></th>\n      <th>Januari</th>\n    </tr>\n  </thead>\n  <tbody>\n    <tr>\n      <th>Bandung</th>\n      <td>4</td>\n    </tr>\n    <tr>\n      <th>Bekasi</th>\n      <td>7</td>\n    </tr>\n  </tbody>\n</table>\n</div>"
     },
     "metadata": {},
     "execution_count": 21
    }
   ],
   "source": [
    "kota[kota['Januari']>3][[\"Januari\"]]"
   ]
  },
  {
   "cell_type": "code",
   "execution_count": 22,
   "metadata": {},
   "outputs": [
    {
     "output_type": "execute_result",
     "data": {
      "text/plain": "         Januari  Februari  Maret  total\nBandung        4         5      6     24\nBekasi         7         8      9     63",
      "text/html": "<div>\n<style scoped>\n    .dataframe tbody tr th:only-of-type {\n        vertical-align: middle;\n    }\n\n    .dataframe tbody tr th {\n        vertical-align: top;\n    }\n\n    .dataframe thead th {\n        text-align: right;\n    }\n</style>\n<table border=\"1\" class=\"dataframe\">\n  <thead>\n    <tr style=\"text-align: right;\">\n      <th></th>\n      <th>Januari</th>\n      <th>Februari</th>\n      <th>Maret</th>\n      <th>total</th>\n    </tr>\n  </thead>\n  <tbody>\n    <tr>\n      <th>Bandung</th>\n      <td>4</td>\n      <td>5</td>\n      <td>6</td>\n      <td>24</td>\n    </tr>\n    <tr>\n      <th>Bekasi</th>\n      <td>7</td>\n      <td>8</td>\n      <td>9</td>\n      <td>63</td>\n    </tr>\n  </tbody>\n</table>\n</div>"
     },
     "metadata": {},
     "execution_count": 22
    }
   ],
   "source": [
    "kota[(kota['Maret']>1)&(kota['Februari']>2)]"
   ]
  },
  {
   "cell_type": "code",
   "execution_count": 23,
   "metadata": {},
   "outputs": [
    {
     "output_type": "execute_result",
     "data": {
      "text/plain": "         Januari  Februari  Maret  total\nJakarta        1         2      3      3\nBandung        4         5      6     24\nBekasi         7         8      9     63",
      "text/html": "<div>\n<style scoped>\n    .dataframe tbody tr th:only-of-type {\n        vertical-align: middle;\n    }\n\n    .dataframe tbody tr th {\n        vertical-align: top;\n    }\n\n    .dataframe thead th {\n        text-align: right;\n    }\n</style>\n<table border=\"1\" class=\"dataframe\">\n  <thead>\n    <tr style=\"text-align: right;\">\n      <th></th>\n      <th>Januari</th>\n      <th>Februari</th>\n      <th>Maret</th>\n      <th>total</th>\n    </tr>\n  </thead>\n  <tbody>\n    <tr>\n      <th>Jakarta</th>\n      <td>1</td>\n      <td>2</td>\n      <td>3</td>\n      <td>3</td>\n    </tr>\n    <tr>\n      <th>Bandung</th>\n      <td>4</td>\n      <td>5</td>\n      <td>6</td>\n      <td>24</td>\n    </tr>\n    <tr>\n      <th>Bekasi</th>\n      <td>7</td>\n      <td>8</td>\n      <td>9</td>\n      <td>63</td>\n    </tr>\n  </tbody>\n</table>\n</div>"
     },
     "metadata": {},
     "execution_count": 23
    }
   ],
   "source": [
    "kota[(kota['Maret']>1)|(kota['Februari']>2)]"
   ]
  },
  {
   "cell_type": "markdown",
   "metadata": {},
   "source": [
    "# Index Details"
   ]
  },
  {
   "cell_type": "code",
   "execution_count": 24,
   "metadata": {},
   "outputs": [
    {
     "output_type": "execute_result",
     "data": {
      "text/plain": "         Januari  Februari  Maret  total\nJakarta        1         2      3      3\nBandung        4         5      6     24\nBekasi         7         8      9     63",
      "text/html": "<div>\n<style scoped>\n    .dataframe tbody tr th:only-of-type {\n        vertical-align: middle;\n    }\n\n    .dataframe tbody tr th {\n        vertical-align: top;\n    }\n\n    .dataframe thead th {\n        text-align: right;\n    }\n</style>\n<table border=\"1\" class=\"dataframe\">\n  <thead>\n    <tr style=\"text-align: right;\">\n      <th></th>\n      <th>Januari</th>\n      <th>Februari</th>\n      <th>Maret</th>\n      <th>total</th>\n    </tr>\n  </thead>\n  <tbody>\n    <tr>\n      <th>Jakarta</th>\n      <td>1</td>\n      <td>2</td>\n      <td>3</td>\n      <td>3</td>\n    </tr>\n    <tr>\n      <th>Bandung</th>\n      <td>4</td>\n      <td>5</td>\n      <td>6</td>\n      <td>24</td>\n    </tr>\n    <tr>\n      <th>Bekasi</th>\n      <td>7</td>\n      <td>8</td>\n      <td>9</td>\n      <td>63</td>\n    </tr>\n  </tbody>\n</table>\n</div>"
     },
     "metadata": {},
     "execution_count": 24
    }
   ],
   "source": [
    "kota"
   ]
  },
  {
   "cell_type": "code",
   "execution_count": 25,
   "metadata": {},
   "outputs": [
    {
     "output_type": "execute_result",
     "data": {
      "text/plain": "      Kota  Januari  Februari  Maret  total\n0  Jakarta        1         2      3      3\n1  Bandung        4         5      6     24\n2   Bekasi        7         8      9     63",
      "text/html": "<div>\n<style scoped>\n    .dataframe tbody tr th:only-of-type {\n        vertical-align: middle;\n    }\n\n    .dataframe tbody tr th {\n        vertical-align: top;\n    }\n\n    .dataframe thead th {\n        text-align: right;\n    }\n</style>\n<table border=\"1\" class=\"dataframe\">\n  <thead>\n    <tr style=\"text-align: right;\">\n      <th></th>\n      <th>Kota</th>\n      <th>Januari</th>\n      <th>Februari</th>\n      <th>Maret</th>\n      <th>total</th>\n    </tr>\n  </thead>\n  <tbody>\n    <tr>\n      <th>0</th>\n      <td>Jakarta</td>\n      <td>1</td>\n      <td>2</td>\n      <td>3</td>\n      <td>3</td>\n    </tr>\n    <tr>\n      <th>1</th>\n      <td>Bandung</td>\n      <td>4</td>\n      <td>5</td>\n      <td>6</td>\n      <td>24</td>\n    </tr>\n    <tr>\n      <th>2</th>\n      <td>Bekasi</td>\n      <td>7</td>\n      <td>8</td>\n      <td>9</td>\n      <td>63</td>\n    </tr>\n  </tbody>\n</table>\n</div>"
     },
     "metadata": {},
     "execution_count": 25
    }
   ],
   "source": [
    "kota2 = kota.reset_index()\n",
    "kota2.rename({'index':'Kota'}, axis=1, inplace=True)\n",
    "kota2"
   ]
  },
  {
   "cell_type": "code",
   "execution_count": 26,
   "metadata": {},
   "outputs": [],
   "source": [
    "kota3=kota.reset_index(drop=True)"
   ]
  },
  {
   "cell_type": "code",
   "execution_count": 27,
   "metadata": {},
   "outputs": [
    {
     "output_type": "execute_result",
     "data": {
      "text/plain": "['smartphone', 'laptop', 'tablet']"
     },
     "metadata": {},
     "execution_count": 27
    }
   ],
   "source": [
    "goods='smartphone laptop tablet'.split()\n",
    "goods"
   ]
  },
  {
   "cell_type": "code",
   "execution_count": 28,
   "metadata": {},
   "outputs": [
    {
     "output_type": "execute_result",
     "data": {
      "text/plain": "            Januari  Februari  Maret  total\nitems                                      \nsmartphone        1         2      3      3\nlaptop            4         5      6     24\ntablet            7         8      9     63",
      "text/html": "<div>\n<style scoped>\n    .dataframe tbody tr th:only-of-type {\n        vertical-align: middle;\n    }\n\n    .dataframe tbody tr th {\n        vertical-align: top;\n    }\n\n    .dataframe thead th {\n        text-align: right;\n    }\n</style>\n<table border=\"1\" class=\"dataframe\">\n  <thead>\n    <tr style=\"text-align: right;\">\n      <th></th>\n      <th>Januari</th>\n      <th>Februari</th>\n      <th>Maret</th>\n      <th>total</th>\n    </tr>\n    <tr>\n      <th>items</th>\n      <th></th>\n      <th></th>\n      <th></th>\n      <th></th>\n    </tr>\n  </thead>\n  <tbody>\n    <tr>\n      <th>smartphone</th>\n      <td>1</td>\n      <td>2</td>\n      <td>3</td>\n      <td>3</td>\n    </tr>\n    <tr>\n      <th>laptop</th>\n      <td>4</td>\n      <td>5</td>\n      <td>6</td>\n      <td>24</td>\n    </tr>\n    <tr>\n      <th>tablet</th>\n      <td>7</td>\n      <td>8</td>\n      <td>9</td>\n      <td>63</td>\n    </tr>\n  </tbody>\n</table>\n</div>"
     },
     "metadata": {},
     "execution_count": 28
    }
   ],
   "source": [
    "kota3['items']=goods\n",
    "gadget= kota3.set_index('items')\n",
    "gadget"
   ]
  },
  {
   "cell_type": "markdown",
   "metadata": {},
   "source": [
    "# Multi Index and Index Hierarchy"
   ]
  },
  {
   "cell_type": "code",
   "execution_count": 29,
   "metadata": {},
   "outputs": [
    {
     "output_type": "execute_result",
     "data": {
      "text/plain": "[('jabodetabek', 1),\n ('jabodetabek', 2),\n ('jabodetabek', 3),\n ('Outside', 1),\n ('Outside', 2),\n ('Outside', 3)]"
     },
     "metadata": {},
     "execution_count": 29
    }
   ],
   "source": [
    "area= (('jabodetabek '*3) + ('Outside '*3)).split()\n",
    "district=[1,2,3,1,2,3]\n",
    "hier_index=list(zip(area,district))\n",
    "hier_index"
   ]
  },
  {
   "cell_type": "code",
   "execution_count": 30,
   "metadata": {},
   "outputs": [
    {
     "output_type": "execute_result",
     "data": {
      "text/plain": "MultiIndex([('jabodetabek', 1),\n            ('jabodetabek', 2),\n            ('jabodetabek', 3),\n            (    'Outside', 1),\n            (    'Outside', 2),\n            (    'Outside', 3)],\n           )"
     },
     "metadata": {},
     "execution_count": 30
    }
   ],
   "source": [
    "multi_index=pd.MultiIndex.from_tuples(hier_index)\n",
    "multi_index"
   ]
  },
  {
   "cell_type": "code",
   "execution_count": 31,
   "metadata": {},
   "outputs": [
    {
     "output_type": "execute_result",
     "data": {
      "text/plain": "               Smartphone    PC\njabodetabek 1        1150  1134\n            2        1517  1043\n            3        1267  1419\nOutside     1        1276  1983\n            2        1395  1241\n            3        1514  1836",
      "text/html": "<div>\n<style scoped>\n    .dataframe tbody tr th:only-of-type {\n        vertical-align: middle;\n    }\n\n    .dataframe tbody tr th {\n        vertical-align: top;\n    }\n\n    .dataframe thead th {\n        text-align: right;\n    }\n</style>\n<table border=\"1\" class=\"dataframe\">\n  <thead>\n    <tr style=\"text-align: right;\">\n      <th></th>\n      <th></th>\n      <th>Smartphone</th>\n      <th>PC</th>\n    </tr>\n  </thead>\n  <tbody>\n    <tr>\n      <th rowspan=\"3\" valign=\"top\">jabodetabek</th>\n      <th>1</th>\n      <td>1150</td>\n      <td>1134</td>\n    </tr>\n    <tr>\n      <th>2</th>\n      <td>1517</td>\n      <td>1043</td>\n    </tr>\n    <tr>\n      <th>3</th>\n      <td>1267</td>\n      <td>1419</td>\n    </tr>\n    <tr>\n      <th rowspan=\"3\" valign=\"top\">Outside</th>\n      <th>1</th>\n      <td>1276</td>\n      <td>1983</td>\n    </tr>\n    <tr>\n      <th>2</th>\n      <td>1395</td>\n      <td>1241</td>\n    </tr>\n    <tr>\n      <th>3</th>\n      <td>1514</td>\n      <td>1836</td>\n    </tr>\n  </tbody>\n</table>\n</div>"
     },
     "metadata": {},
     "execution_count": 31
    }
   ],
   "source": [
    "sales=pd.DataFrame({'Smartphone':np.random.randint(1000,2000,6), 'PC':np.random.randint(1000,2000,6)}, index=multi_index)\n",
    "sales"
   ]
  },
  {
   "cell_type": "code",
   "execution_count": 32,
   "metadata": {},
   "outputs": [
    {
     "output_type": "execute_result",
     "data": {
      "text/plain": "               Smartphone    PC\njabodetabek 1        1150  1134\n            2        1517  1043\n            3        1267  1419",
      "text/html": "<div>\n<style scoped>\n    .dataframe tbody tr th:only-of-type {\n        vertical-align: middle;\n    }\n\n    .dataframe tbody tr th {\n        vertical-align: top;\n    }\n\n    .dataframe thead th {\n        text-align: right;\n    }\n</style>\n<table border=\"1\" class=\"dataframe\">\n  <thead>\n    <tr style=\"text-align: right;\">\n      <th></th>\n      <th></th>\n      <th>Smartphone</th>\n      <th>PC</th>\n    </tr>\n  </thead>\n  <tbody>\n    <tr>\n      <th rowspan=\"3\" valign=\"top\">jabodetabek</th>\n      <th>1</th>\n      <td>1150</td>\n      <td>1134</td>\n    </tr>\n    <tr>\n      <th>2</th>\n      <td>1517</td>\n      <td>1043</td>\n    </tr>\n    <tr>\n      <th>3</th>\n      <td>1267</td>\n      <td>1419</td>\n    </tr>\n  </tbody>\n</table>\n</div>"
     },
     "metadata": {},
     "execution_count": 32
    }
   ],
   "source": [
    "sales.loc['jabodetabek']\n",
    "sales.iloc[:3]"
   ]
  },
  {
   "cell_type": "code",
   "execution_count": 33,
   "metadata": {},
   "outputs": [
    {
     "output_type": "execute_result",
     "data": {
      "text/plain": "               Smartphone    PC\njabodetabek 1        1150  1134\n            2        1517  1043\n            3        1267  1419\nOutside     1        1276  1983\n            2        1395  1241\n            3        1514  1836",
      "text/html": "<div>\n<style scoped>\n    .dataframe tbody tr th:only-of-type {\n        vertical-align: middle;\n    }\n\n    .dataframe tbody tr th {\n        vertical-align: top;\n    }\n\n    .dataframe thead th {\n        text-align: right;\n    }\n</style>\n<table border=\"1\" class=\"dataframe\">\n  <thead>\n    <tr style=\"text-align: right;\">\n      <th></th>\n      <th></th>\n      <th>Smartphone</th>\n      <th>PC</th>\n    </tr>\n  </thead>\n  <tbody>\n    <tr>\n      <th rowspan=\"3\" valign=\"top\">jabodetabek</th>\n      <th>1</th>\n      <td>1150</td>\n      <td>1134</td>\n    </tr>\n    <tr>\n      <th>2</th>\n      <td>1517</td>\n      <td>1043</td>\n    </tr>\n    <tr>\n      <th>3</th>\n      <td>1267</td>\n      <td>1419</td>\n    </tr>\n    <tr>\n      <th rowspan=\"3\" valign=\"top\">Outside</th>\n      <th>1</th>\n      <td>1276</td>\n      <td>1983</td>\n    </tr>\n    <tr>\n      <th>2</th>\n      <td>1395</td>\n      <td>1241</td>\n    </tr>\n    <tr>\n      <th>3</th>\n      <td>1514</td>\n      <td>1836</td>\n    </tr>\n  </tbody>\n</table>\n</div>"
     },
     "metadata": {},
     "execution_count": 33
    }
   ],
   "source": [
    "sales"
   ]
  },
  {
   "cell_type": "code",
   "execution_count": 34,
   "metadata": {},
   "outputs": [
    {
     "output_type": "execute_result",
     "data": {
      "text/plain": "   Smartphone    PC\n3        1267  1419",
      "text/html": "<div>\n<style scoped>\n    .dataframe tbody tr th:only-of-type {\n        vertical-align: middle;\n    }\n\n    .dataframe tbody tr th {\n        vertical-align: top;\n    }\n\n    .dataframe thead th {\n        text-align: right;\n    }\n</style>\n<table border=\"1\" class=\"dataframe\">\n  <thead>\n    <tr style=\"text-align: right;\">\n      <th></th>\n      <th>Smartphone</th>\n      <th>PC</th>\n    </tr>\n  </thead>\n  <tbody>\n    <tr>\n      <th>3</th>\n      <td>1267</td>\n      <td>1419</td>\n    </tr>\n  </tbody>\n</table>\n</div>"
     },
     "metadata": {},
     "execution_count": 34
    }
   ],
   "source": [
    "sales.loc['jabodetabek'][sales['PC']['jabodetabek']==sales['PC']['jabodetabek'].max()]"
   ]
  },
  {
   "cell_type": "code",
   "execution_count": 35,
   "metadata": {},
   "outputs": [
    {
     "output_type": "execute_result",
     "data": {
      "text/plain": "   Smartphone    PC\n2        1517  1043",
      "text/html": "<div>\n<style scoped>\n    .dataframe tbody tr th:only-of-type {\n        vertical-align: middle;\n    }\n\n    .dataframe tbody tr th {\n        vertical-align: top;\n    }\n\n    .dataframe thead th {\n        text-align: right;\n    }\n</style>\n<table border=\"1\" class=\"dataframe\">\n  <thead>\n    <tr style=\"text-align: right;\">\n      <th></th>\n      <th>Smartphone</th>\n      <th>PC</th>\n    </tr>\n  </thead>\n  <tbody>\n    <tr>\n      <th>2</th>\n      <td>1517</td>\n      <td>1043</td>\n    </tr>\n  </tbody>\n</table>\n</div>"
     },
     "metadata": {},
     "execution_count": 35
    }
   ],
   "source": [
    "sales.loc['jabodetabek'][sales.loc['jabodetabek']['Smartphone']==sales.loc['jabodetabek']['Smartphone'].max()]"
   ]
  },
  {
   "cell_type": "code",
   "execution_count": 36,
   "metadata": {},
   "outputs": [
    {
     "output_type": "execute_result",
     "data": {
      "text/plain": "jabodetabek  3    1419\nName: PC, dtype: int32"
     },
     "metadata": {},
     "execution_count": 36
    }
   ],
   "source": [
    "sales['PC'][[2]]"
   ]
  },
  {
   "cell_type": "markdown",
   "metadata": {},
   "source": [
    "# Import Data\n",
    "### csv"
   ]
  },
  {
   "cell_type": "code",
   "execution_count": 37,
   "metadata": {},
   "outputs": [
    {
     "output_type": "execute_result",
     "data": {
      "text/plain": "   nama      gaji\n0  andi  11000000\n1  budi  15000000\n2  caca  15000000\n3  deni  12000000\n4  euis  14000000",
      "text/html": "<div>\n<style scoped>\n    .dataframe tbody tr th:only-of-type {\n        vertical-align: middle;\n    }\n\n    .dataframe tbody tr th {\n        vertical-align: top;\n    }\n\n    .dataframe thead th {\n        text-align: right;\n    }\n</style>\n<table border=\"1\" class=\"dataframe\">\n  <thead>\n    <tr style=\"text-align: right;\">\n      <th></th>\n      <th>nama</th>\n      <th>gaji</th>\n    </tr>\n  </thead>\n  <tbody>\n    <tr>\n      <th>0</th>\n      <td>andi</td>\n      <td>11000000</td>\n    </tr>\n    <tr>\n      <th>1</th>\n      <td>budi</td>\n      <td>15000000</td>\n    </tr>\n    <tr>\n      <th>2</th>\n      <td>caca</td>\n      <td>15000000</td>\n    </tr>\n    <tr>\n      <th>3</th>\n      <td>deni</td>\n      <td>12000000</td>\n    </tr>\n    <tr>\n      <th>4</th>\n      <td>euis</td>\n      <td>14000000</td>\n    </tr>\n  </tbody>\n</table>\n</div>"
     },
     "metadata": {},
     "execution_count": 37
    }
   ],
   "source": [
    "pegawai_csv=pd.read_csv('data_pegawai.csv', delimiter=';',skiprows=2,skipfooter=2)\n",
    "#delimiter untuk menentukan pembatas, skiprows untuk melewati beberapa baris di atas, skipfooter untuk melewati beberapa garis di bawah\n",
    "pegawai_csv.set_index('no.')\n",
    "pegawai_csv[['nama','gaji']]"
   ]
  },
  {
   "cell_type": "markdown",
   "metadata": {},
   "source": [
    "### Excel"
   ]
  },
  {
   "cell_type": "code",
   "execution_count": 38,
   "metadata": {},
   "outputs": [
    {
     "output_type": "execute_result",
     "data": {
      "text/plain": "   no.  nama  usia      kota      gaji\n0    1  andi    22   jakarta  11000000\n1    2  budi    28   jakarta  15000000\n2    3  caca    21   bandung  15000000\n3    4  deni    29  semarang  12000000\n4    5  euis    35   bandung  14000000",
      "text/html": "<div>\n<style scoped>\n    .dataframe tbody tr th:only-of-type {\n        vertical-align: middle;\n    }\n\n    .dataframe tbody tr th {\n        vertical-align: top;\n    }\n\n    .dataframe thead th {\n        text-align: right;\n    }\n</style>\n<table border=\"1\" class=\"dataframe\">\n  <thead>\n    <tr style=\"text-align: right;\">\n      <th></th>\n      <th>no.</th>\n      <th>nama</th>\n      <th>usia</th>\n      <th>kota</th>\n      <th>gaji</th>\n    </tr>\n  </thead>\n  <tbody>\n    <tr>\n      <th>0</th>\n      <td>1</td>\n      <td>andi</td>\n      <td>22</td>\n      <td>jakarta</td>\n      <td>11000000</td>\n    </tr>\n    <tr>\n      <th>1</th>\n      <td>2</td>\n      <td>budi</td>\n      <td>28</td>\n      <td>jakarta</td>\n      <td>15000000</td>\n    </tr>\n    <tr>\n      <th>2</th>\n      <td>3</td>\n      <td>caca</td>\n      <td>21</td>\n      <td>bandung</td>\n      <td>15000000</td>\n    </tr>\n    <tr>\n      <th>3</th>\n      <td>4</td>\n      <td>deni</td>\n      <td>29</td>\n      <td>semarang</td>\n      <td>12000000</td>\n    </tr>\n    <tr>\n      <th>4</th>\n      <td>5</td>\n      <td>euis</td>\n      <td>35</td>\n      <td>bandung</td>\n      <td>14000000</td>\n    </tr>\n  </tbody>\n</table>\n</div>"
     },
     "metadata": {},
     "execution_count": 38
    }
   ],
   "source": [
    "pegawai_xls=pd.read_excel('data_pegawai.xlsx',skiprows=3, skipfooter=2)\n",
    "pegawai_xls"
   ]
  },
  {
   "cell_type": "code",
   "execution_count": 39,
   "metadata": {},
   "outputs": [
    {
     "output_type": "execute_result",
     "data": {
      "text/plain": "dtype('int64')"
     },
     "metadata": {},
     "execution_count": 39
    }
   ],
   "source": [
    "pegawai_csv.describe()\n",
    "pegawai_csv['no.'].dtype"
   ]
  },
  {
   "cell_type": "code",
   "execution_count": 40,
   "metadata": {},
   "outputs": [
    {
     "output_type": "execute_result",
     "data": {
      "text/plain": "  Column Non-Null Count   Dtype\n0    no.     5 non-null   int64\n1   nama     5 non-null  object\n2   usia     5 non-null   int64\n3   kota     5 non-null  object\n4   gaji     5 non-null   int64",
      "text/html": "<div>\n<style scoped>\n    .dataframe tbody tr th:only-of-type {\n        vertical-align: middle;\n    }\n\n    .dataframe tbody tr th {\n        vertical-align: top;\n    }\n\n    .dataframe thead th {\n        text-align: right;\n    }\n</style>\n<table border=\"1\" class=\"dataframe\">\n  <thead>\n    <tr style=\"text-align: right;\">\n      <th></th>\n      <th>Column</th>\n      <th>Non-Null Count</th>\n      <th>Dtype</th>\n    </tr>\n  </thead>\n  <tbody>\n    <tr>\n      <th>0</th>\n      <td>no.</td>\n      <td>5 non-null</td>\n      <td>int64</td>\n    </tr>\n    <tr>\n      <th>1</th>\n      <td>nama</td>\n      <td>5 non-null</td>\n      <td>object</td>\n    </tr>\n    <tr>\n      <th>2</th>\n      <td>usia</td>\n      <td>5 non-null</td>\n      <td>int64</td>\n    </tr>\n    <tr>\n      <th>3</th>\n      <td>kota</td>\n      <td>5 non-null</td>\n      <td>object</td>\n    </tr>\n    <tr>\n      <th>4</th>\n      <td>gaji</td>\n      <td>5 non-null</td>\n      <td>int64</td>\n    </tr>\n  </tbody>\n</table>\n</div>"
     },
     "metadata": {},
     "execution_count": 40
    }
   ],
   "source": [
    "pegawai_type=pd.DataFrame()\n",
    "\n",
    "for i in range(len(pegawai_csv.columns)):\n",
    "    nn=f'{len(pegawai_csv)-pegawai_csv[pegawai_csv.columns[i]].isna().sum()} non-null'\n",
    "    dty=pegawai_csv[pegawai_csv.columns[i]].dtype\n",
    "    pegawai_type[i]=[pegawai_csv.columns[i],nn,dty]\n",
    "hasil=pegawai_type.transpose()\n",
    "hasil.rename({0:'Column',1:'Non-Null Count',2:'Dtype'},axis=1,inplace=True)\n",
    "hasil"
   ]
  },
  {
   "cell_type": "code",
   "execution_count": 41,
   "metadata": {},
   "outputs": [
    {
     "output_type": "execute_result",
     "data": {
      "text/plain": "   nama      gaji\n1  budi  15000000\n2  caca  15000000\n4  euis  14000000",
      "text/html": "<div>\n<style scoped>\n    .dataframe tbody tr th:only-of-type {\n        vertical-align: middle;\n    }\n\n    .dataframe tbody tr th {\n        vertical-align: top;\n    }\n\n    .dataframe thead th {\n        text-align: right;\n    }\n</style>\n<table border=\"1\" class=\"dataframe\">\n  <thead>\n    <tr style=\"text-align: right;\">\n      <th></th>\n      <th>nama</th>\n      <th>gaji</th>\n    </tr>\n  </thead>\n  <tbody>\n    <tr>\n      <th>1</th>\n      <td>budi</td>\n      <td>15000000</td>\n    </tr>\n    <tr>\n      <th>2</th>\n      <td>caca</td>\n      <td>15000000</td>\n    </tr>\n    <tr>\n      <th>4</th>\n      <td>euis</td>\n      <td>14000000</td>\n    </tr>\n  </tbody>\n</table>\n</div>"
     },
     "metadata": {},
     "execution_count": 41
    }
   ],
   "source": [
    "c=sorted(pegawai_csv['gaji'],reverse=True)\n",
    "pegawai_csv[['nama','gaji']][pegawai_csv['gaji']>=c[2]]"
   ]
  },
  {
   "cell_type": "markdown",
   "metadata": {},
   "source": [
    "# dealing with missing data"
   ]
  },
  {
   "cell_type": "code",
   "execution_count": 42,
   "metadata": {},
   "outputs": [
    {
     "output_type": "execute_result",
     "data": {
      "text/plain": "          Jakarta      Bandung      Bekasi\ncount    3.000000     2.000000    4.000000\nmean   233.333333   750.000000  275.000000\nstd    152.752523   353.553391  170.782513\nmin    100.000000   500.000000  100.000000\n25%    150.000000   625.000000  175.000000\n50%    200.000000   750.000000  250.000000\n75%    300.000000   875.000000  350.000000\nmax    400.000000  1000.000000  500.000000",
      "text/html": "<div>\n<style scoped>\n    .dataframe tbody tr th:only-of-type {\n        vertical-align: middle;\n    }\n\n    .dataframe tbody tr th {\n        vertical-align: top;\n    }\n\n    .dataframe thead th {\n        text-align: right;\n    }\n</style>\n<table border=\"1\" class=\"dataframe\">\n  <thead>\n    <tr style=\"text-align: right;\">\n      <th></th>\n      <th>Jakarta</th>\n      <th>Bandung</th>\n      <th>Bekasi</th>\n    </tr>\n  </thead>\n  <tbody>\n    <tr>\n      <th>count</th>\n      <td>3.000000</td>\n      <td>2.000000</td>\n      <td>4.000000</td>\n    </tr>\n    <tr>\n      <th>mean</th>\n      <td>233.333333</td>\n      <td>750.000000</td>\n      <td>275.000000</td>\n    </tr>\n    <tr>\n      <th>std</th>\n      <td>152.752523</td>\n      <td>353.553391</td>\n      <td>170.782513</td>\n    </tr>\n    <tr>\n      <th>min</th>\n      <td>100.000000</td>\n      <td>500.000000</td>\n      <td>100.000000</td>\n    </tr>\n    <tr>\n      <th>25%</th>\n      <td>150.000000</td>\n      <td>625.000000</td>\n      <td>175.000000</td>\n    </tr>\n    <tr>\n      <th>50%</th>\n      <td>200.000000</td>\n      <td>750.000000</td>\n      <td>250.000000</td>\n    </tr>\n    <tr>\n      <th>75%</th>\n      <td>300.000000</td>\n      <td>875.000000</td>\n      <td>350.000000</td>\n    </tr>\n    <tr>\n      <th>max</th>\n      <td>400.000000</td>\n      <td>1000.000000</td>\n      <td>500.000000</td>\n    </tr>\n  </tbody>\n</table>\n</div>"
     },
     "metadata": {},
     "execution_count": 42
    }
   ],
   "source": [
    "df=pd.DataFrame({'Jakarta':[100,200,np.nan,400],\n",
    "'Bandung': [500,np.nan,np.nan,1000], 'Bekasi': [100,200,300,500]})\n",
    "df.describe()"
   ]
  },
  {
   "cell_type": "code",
   "execution_count": 43,
   "metadata": {
    "tags": []
   },
   "outputs": [
    {
     "output_type": "execute_result",
     "data": {
      "text/plain": "   Jakarta  Bandung  Bekasi\n0    100.0    500.0     100\n1    200.0      NaN     200\n2      NaN      NaN     300\n3    400.0   1000.0     500",
      "text/html": "<div>\n<style scoped>\n    .dataframe tbody tr th:only-of-type {\n        vertical-align: middle;\n    }\n\n    .dataframe tbody tr th {\n        vertical-align: top;\n    }\n\n    .dataframe thead th {\n        text-align: right;\n    }\n</style>\n<table border=\"1\" class=\"dataframe\">\n  <thead>\n    <tr style=\"text-align: right;\">\n      <th></th>\n      <th>Jakarta</th>\n      <th>Bandung</th>\n      <th>Bekasi</th>\n    </tr>\n  </thead>\n  <tbody>\n    <tr>\n      <th>0</th>\n      <td>100.0</td>\n      <td>500.0</td>\n      <td>100</td>\n    </tr>\n    <tr>\n      <th>1</th>\n      <td>200.0</td>\n      <td>NaN</td>\n      <td>200</td>\n    </tr>\n    <tr>\n      <th>2</th>\n      <td>NaN</td>\n      <td>NaN</td>\n      <td>300</td>\n    </tr>\n    <tr>\n      <th>3</th>\n      <td>400.0</td>\n      <td>1000.0</td>\n      <td>500</td>\n    </tr>\n  </tbody>\n</table>\n</div>"
     },
     "metadata": {},
     "execution_count": 43
    }
   ],
   "source": [
    "df"
   ]
  },
  {
   "cell_type": "code",
   "execution_count": 44,
   "metadata": {},
   "outputs": [
    {
     "output_type": "execute_result",
     "data": {
      "text/plain": "Jakarta    25.0\nBandung    50.0\nBekasi      0.0\ndtype: float64"
     },
     "metadata": {},
     "execution_count": 44
    }
   ],
   "source": [
    "df.isna().sum()/len(df)*100"
   ]
  },
  {
   "cell_type": "markdown",
   "metadata": {},
   "source": [
    "# Metode Dropping NA Values:\n",
    "1. dilihat dulu presentase kehilangan datanya pada tiap kolom.\n",
    "2. kalau dalam 1 kolom terdapat missing data >50% dari total data, maka kita boleh menghapus kolom tersebut.\n",
    "3. kalau tidak ada kolom yang missing datanya >50% kita bisa mengisi datanya dengan mean, median, modus, ataupun nilai sebelum/sesudahnya (front fill atau back fill), atau dengan menggunakan metode linear regresi atau metode lainnya.\n",
    "** untuk penggunaan modus,mean,median dengan normaliti tes.**\n",
    "- menghapus data tersebut berdasarkan barisnya(row)\n",
    "4. solusi yang terbaik adalah dengan refill dengan percobaan menghasilkan analisis yang terbaik.\n",
    "\n",
    "Data yang terdistribusi normal adalah yang menggunung di tengah menggunakan mean\n",
    "jika data yang terdistribusi secara skew maka lebih baik menggunakan median\n",
    "\n",
    "<img src=\"catatan.png\">\n"
   ]
  },
  {
   "cell_type": "markdown",
   "metadata": {},
   "source": [
    "## Dropna() : Menghapus data Kosong"
   ]
  },
  {
   "cell_type": "code",
   "execution_count": 45,
   "metadata": {},
   "outputs": [
    {
     "output_type": "execute_result",
     "data": {
      "text/plain": "   Jakarta  Bandung  Bekasi\n0    100.0    500.0     100\n1    200.0      NaN     200\n2      NaN      NaN     300\n3    400.0   1000.0     500",
      "text/html": "<div>\n<style scoped>\n    .dataframe tbody tr th:only-of-type {\n        vertical-align: middle;\n    }\n\n    .dataframe tbody tr th {\n        vertical-align: top;\n    }\n\n    .dataframe thead th {\n        text-align: right;\n    }\n</style>\n<table border=\"1\" class=\"dataframe\">\n  <thead>\n    <tr style=\"text-align: right;\">\n      <th></th>\n      <th>Jakarta</th>\n      <th>Bandung</th>\n      <th>Bekasi</th>\n    </tr>\n  </thead>\n  <tbody>\n    <tr>\n      <th>0</th>\n      <td>100.0</td>\n      <td>500.0</td>\n      <td>100</td>\n    </tr>\n    <tr>\n      <th>1</th>\n      <td>200.0</td>\n      <td>NaN</td>\n      <td>200</td>\n    </tr>\n    <tr>\n      <th>2</th>\n      <td>NaN</td>\n      <td>NaN</td>\n      <td>300</td>\n    </tr>\n    <tr>\n      <th>3</th>\n      <td>400.0</td>\n      <td>1000.0</td>\n      <td>500</td>\n    </tr>\n  </tbody>\n</table>\n</div>"
     },
     "metadata": {},
     "execution_count": 45
    }
   ],
   "source": [
    "df"
   ]
  },
  {
   "cell_type": "code",
   "execution_count": 46,
   "metadata": {},
   "outputs": [
    {
     "output_type": "execute_result",
     "data": {
      "text/plain": "   Jakarta  Bandung  Bekasi\n0    100.0    500.0     100\n3    400.0   1000.0     500",
      "text/html": "<div>\n<style scoped>\n    .dataframe tbody tr th:only-of-type {\n        vertical-align: middle;\n    }\n\n    .dataframe tbody tr th {\n        vertical-align: top;\n    }\n\n    .dataframe thead th {\n        text-align: right;\n    }\n</style>\n<table border=\"1\" class=\"dataframe\">\n  <thead>\n    <tr style=\"text-align: right;\">\n      <th></th>\n      <th>Jakarta</th>\n      <th>Bandung</th>\n      <th>Bekasi</th>\n    </tr>\n  </thead>\n  <tbody>\n    <tr>\n      <th>0</th>\n      <td>100.0</td>\n      <td>500.0</td>\n      <td>100</td>\n    </tr>\n    <tr>\n      <th>3</th>\n      <td>400.0</td>\n      <td>1000.0</td>\n      <td>500</td>\n    </tr>\n  </tbody>\n</table>\n</div>"
     },
     "metadata": {},
     "execution_count": 46
    }
   ],
   "source": [
    "df.dropna()\n",
    "#menghapus semua data nan di baris walaupun hanya 1"
   ]
  },
  {
   "cell_type": "code",
   "execution_count": 47,
   "metadata": {},
   "outputs": [
    {
     "output_type": "execute_result",
     "data": {
      "text/plain": "   Bekasi\n0     100\n1     200\n2     300\n3     500",
      "text/html": "<div>\n<style scoped>\n    .dataframe tbody tr th:only-of-type {\n        vertical-align: middle;\n    }\n\n    .dataframe tbody tr th {\n        vertical-align: top;\n    }\n\n    .dataframe thead th {\n        text-align: right;\n    }\n</style>\n<table border=\"1\" class=\"dataframe\">\n  <thead>\n    <tr style=\"text-align: right;\">\n      <th></th>\n      <th>Bekasi</th>\n    </tr>\n  </thead>\n  <tbody>\n    <tr>\n      <th>0</th>\n      <td>100</td>\n    </tr>\n    <tr>\n      <th>1</th>\n      <td>200</td>\n    </tr>\n    <tr>\n      <th>2</th>\n      <td>300</td>\n    </tr>\n    <tr>\n      <th>3</th>\n      <td>500</td>\n    </tr>\n  </tbody>\n</table>\n</div>"
     },
     "metadata": {},
     "execution_count": 47
    }
   ],
   "source": [
    "df.dropna(axis=1)\n",
    "#menghapus semua data nan di kolom walaupun hanya 1"
   ]
  },
  {
   "cell_type": "code",
   "execution_count": 48,
   "metadata": {},
   "outputs": [
    {
     "output_type": "execute_result",
     "data": {
      "text/plain": "   Jakarta  Bandung  Bekasi\n0    100.0    500.0     100\n1    200.0      NaN     200\n2      NaN      NaN     300\n3    400.0   1000.0     500",
      "text/html": "<div>\n<style scoped>\n    .dataframe tbody tr th:only-of-type {\n        vertical-align: middle;\n    }\n\n    .dataframe tbody tr th {\n        vertical-align: top;\n    }\n\n    .dataframe thead th {\n        text-align: right;\n    }\n</style>\n<table border=\"1\" class=\"dataframe\">\n  <thead>\n    <tr style=\"text-align: right;\">\n      <th></th>\n      <th>Jakarta</th>\n      <th>Bandung</th>\n      <th>Bekasi</th>\n    </tr>\n  </thead>\n  <tbody>\n    <tr>\n      <th>0</th>\n      <td>100.0</td>\n      <td>500.0</td>\n      <td>100</td>\n    </tr>\n    <tr>\n      <th>1</th>\n      <td>200.0</td>\n      <td>NaN</td>\n      <td>200</td>\n    </tr>\n    <tr>\n      <th>2</th>\n      <td>NaN</td>\n      <td>NaN</td>\n      <td>300</td>\n    </tr>\n    <tr>\n      <th>3</th>\n      <td>400.0</td>\n      <td>1000.0</td>\n      <td>500</td>\n    </tr>\n  </tbody>\n</table>\n</div>"
     },
     "metadata": {},
     "execution_count": 48
    }
   ],
   "source": [
    "df.dropna(thresh=1)\n",
    "#menghapus baris yang memiliki jumlah data minimal {1}"
   ]
  },
  {
   "cell_type": "code",
   "execution_count": 49,
   "metadata": {},
   "outputs": [
    {
     "output_type": "execute_result",
     "data": {
      "text/plain": "   Jakarta  Bandung  Bekasi\n0    100.0    500.0     100\n1    200.0      NaN     200\n2      NaN      NaN     300\n3    400.0   1000.0     500",
      "text/html": "<div>\n<style scoped>\n    .dataframe tbody tr th:only-of-type {\n        vertical-align: middle;\n    }\n\n    .dataframe tbody tr th {\n        vertical-align: top;\n    }\n\n    .dataframe thead th {\n        text-align: right;\n    }\n</style>\n<table border=\"1\" class=\"dataframe\">\n  <thead>\n    <tr style=\"text-align: right;\">\n      <th></th>\n      <th>Jakarta</th>\n      <th>Bandung</th>\n      <th>Bekasi</th>\n    </tr>\n  </thead>\n  <tbody>\n    <tr>\n      <th>0</th>\n      <td>100.0</td>\n      <td>500.0</td>\n      <td>100</td>\n    </tr>\n    <tr>\n      <th>1</th>\n      <td>200.0</td>\n      <td>NaN</td>\n      <td>200</td>\n    </tr>\n    <tr>\n      <th>2</th>\n      <td>NaN</td>\n      <td>NaN</td>\n      <td>300</td>\n    </tr>\n    <tr>\n      <th>3</th>\n      <td>400.0</td>\n      <td>1000.0</td>\n      <td>500</td>\n    </tr>\n  </tbody>\n</table>\n</div>"
     },
     "metadata": {},
     "execution_count": 49
    }
   ],
   "source": [
    "df.dropna(axis=1,thresh=2)\n",
    "#menghapus kolom yang miliki jumlah data minimal {2}"
   ]
  },
  {
   "cell_type": "code",
   "execution_count": 50,
   "metadata": {},
   "outputs": [
    {
     "output_type": "execute_result",
     "data": {
      "text/plain": "   Jakarta  Bekasi\n0    100.0     100\n1    200.0     200\n2      NaN     300\n3    400.0     500",
      "text/html": "<div>\n<style scoped>\n    .dataframe tbody tr th:only-of-type {\n        vertical-align: middle;\n    }\n\n    .dataframe tbody tr th {\n        vertical-align: top;\n    }\n\n    .dataframe thead th {\n        text-align: right;\n    }\n</style>\n<table border=\"1\" class=\"dataframe\">\n  <thead>\n    <tr style=\"text-align: right;\">\n      <th></th>\n      <th>Jakarta</th>\n      <th>Bekasi</th>\n    </tr>\n  </thead>\n  <tbody>\n    <tr>\n      <th>0</th>\n      <td>100.0</td>\n      <td>100</td>\n    </tr>\n    <tr>\n      <th>1</th>\n      <td>200.0</td>\n      <td>200</td>\n    </tr>\n    <tr>\n      <th>2</th>\n      <td>NaN</td>\n      <td>300</td>\n    </tr>\n    <tr>\n      <th>3</th>\n      <td>400.0</td>\n      <td>500</td>\n    </tr>\n  </tbody>\n</table>\n</div>"
     },
     "metadata": {},
     "execution_count": 50
    }
   ],
   "source": [
    "def most_na(x=pd.DataFrame,axis=1):\n",
    "    result=''\n",
    "    # for i in x.columns:\n",
    "            \n",
    "df.drop('Bandung',axis=1)\n",
    "#menghapus kolom yang memiliki jumlah nan >50%"
   ]
  },
  {
   "cell_type": "markdown",
   "metadata": {},
   "source": [
    "## Fillna() : Mengisi Kekosongan Variabel"
   ]
  },
  {
   "cell_type": "code",
   "execution_count": 51,
   "metadata": {},
   "outputs": [
    {
     "output_type": "execute_result",
     "data": {
      "text/plain": "   Jakarta  Bandung  Bekasi\n0    100.0    500.0     100\n1    200.0    300.0     200\n2    300.0    300.0     300\n3    400.0   1000.0     500",
      "text/html": "<div>\n<style scoped>\n    .dataframe tbody tr th:only-of-type {\n        vertical-align: middle;\n    }\n\n    .dataframe tbody tr th {\n        vertical-align: top;\n    }\n\n    .dataframe thead th {\n        text-align: right;\n    }\n</style>\n<table border=\"1\" class=\"dataframe\">\n  <thead>\n    <tr style=\"text-align: right;\">\n      <th></th>\n      <th>Jakarta</th>\n      <th>Bandung</th>\n      <th>Bekasi</th>\n    </tr>\n  </thead>\n  <tbody>\n    <tr>\n      <th>0</th>\n      <td>100.0</td>\n      <td>500.0</td>\n      <td>100</td>\n    </tr>\n    <tr>\n      <th>1</th>\n      <td>200.0</td>\n      <td>300.0</td>\n      <td>200</td>\n    </tr>\n    <tr>\n      <th>2</th>\n      <td>300.0</td>\n      <td>300.0</td>\n      <td>300</td>\n    </tr>\n    <tr>\n      <th>3</th>\n      <td>400.0</td>\n      <td>1000.0</td>\n      <td>500</td>\n    </tr>\n  </tbody>\n</table>\n</div>"
     },
     "metadata": {},
     "execution_count": 51
    }
   ],
   "source": [
    "df.fillna(value=300)\n",
    "#semua nan akan berubah menjadi value"
   ]
  },
  {
   "cell_type": "code",
   "execution_count": 52,
   "metadata": {},
   "outputs": [
    {
     "output_type": "execute_result",
     "data": {
      "text/plain": "0    100.000000\n1    200.000000\n2    233.333333\n3    400.000000\nName: Jakarta, dtype: float64"
     },
     "metadata": {},
     "execution_count": 52
    }
   ],
   "source": [
    "df['Jakarta'].fillna(value=df['Jakarta'].mean())\n",
    "#mengisi value na {Jakarta} dengan rata-rata di {Jakarta}"
   ]
  },
  {
   "cell_type": "code",
   "execution_count": 53,
   "metadata": {},
   "outputs": [
    {
     "output_type": "execute_result",
     "data": {
      "text/plain": "0     500.0\n1     750.0\n2     750.0\n3    1000.0\nName: Bandung, dtype: float64"
     },
     "metadata": {},
     "execution_count": 53
    }
   ],
   "source": [
    "df['Bandung'].fillna(value=df['Bandung'].mean())\n",
    "#mengisi value na {bandung} dengan rata-rata di {Bandung}"
   ]
  },
  {
   "cell_type": "code",
   "execution_count": 54,
   "metadata": {},
   "outputs": [
    {
     "output_type": "execute_result",
     "data": {
      "text/plain": "0    100.0\n1    200.0\n2    200.0\n3    400.0\nName: Jakarta, dtype: float64"
     },
     "metadata": {},
     "execution_count": 54
    }
   ],
   "source": [
    "df['Jakarta'].fillna(method='ffill')\n",
    "#Method ffill akan mengisi na dengan data sebelumnya"
   ]
  },
  {
   "cell_type": "code",
   "execution_count": 55,
   "metadata": {},
   "outputs": [
    {
     "output_type": "execute_result",
     "data": {
      "text/plain": "0     500.0\n1    1000.0\n2    1000.0\n3    1000.0\nName: Bandung, dtype: float64"
     },
     "metadata": {},
     "execution_count": 55
    }
   ],
   "source": [
    "df['Bandung'].fillna(method='bfill')\n",
    "#Method bfill akan mengisi na dengan data sesudah NA."
   ]
  },
  {
   "cell_type": "markdown",
   "metadata": {},
   "source": [
    "## Replace()\n",
    "mengganti variabel nan dengan value tertentu"
   ]
  },
  {
   "cell_type": "code",
   "execution_count": 56,
   "metadata": {},
   "outputs": [
    {
     "output_type": "execute_result",
     "data": {
      "text/plain": "  Jakarta Bandung  Bekasi\n0     100     500     100\n1     200       -     200\n2       -       -     300\n3     400    1000     500",
      "text/html": "<div>\n<style scoped>\n    .dataframe tbody tr th:only-of-type {\n        vertical-align: middle;\n    }\n\n    .dataframe tbody tr th {\n        vertical-align: top;\n    }\n\n    .dataframe thead th {\n        text-align: right;\n    }\n</style>\n<table border=\"1\" class=\"dataframe\">\n  <thead>\n    <tr style=\"text-align: right;\">\n      <th></th>\n      <th>Jakarta</th>\n      <th>Bandung</th>\n      <th>Bekasi</th>\n    </tr>\n  </thead>\n  <tbody>\n    <tr>\n      <th>0</th>\n      <td>100</td>\n      <td>500</td>\n      <td>100</td>\n    </tr>\n    <tr>\n      <th>1</th>\n      <td>200</td>\n      <td>-</td>\n      <td>200</td>\n    </tr>\n    <tr>\n      <th>2</th>\n      <td>-</td>\n      <td>-</td>\n      <td>300</td>\n    </tr>\n    <tr>\n      <th>3</th>\n      <td>400</td>\n      <td>1000</td>\n      <td>500</td>\n    </tr>\n  </tbody>\n</table>\n</div>"
     },
     "metadata": {},
     "execution_count": 56
    }
   ],
   "source": [
    "df.replace(np.nan,'-')"
   ]
  },
  {
   "cell_type": "code",
   "execution_count": 57,
   "metadata": {
    "tags": []
   },
   "outputs": [
    {
     "output_type": "stream",
     "name": "stdout",
     "text": "<class 'pandas.core.frame.DataFrame'>\nRangeIndex: 4 entries, 0 to 3\nData columns (total 3 columns):\n #   Column   Non-Null Count  Dtype \n---  ------   --------------  ----- \n 0   Jakarta  4 non-null      object\n 1   Bandung  4 non-null      object\n 2   Bekasi   4 non-null      int64 \ndtypes: int64(1), object(2)\nmemory usage: 224.0+ bytes\n"
    }
   ],
   "source": [
    "df2=df.replace(np.nan,'-')\n",
    "df2.info()\n",
    "#jebakan karena dtype object yang harusnya int64"
   ]
  },
  {
   "cell_type": "code",
   "execution_count": 58,
   "metadata": {},
   "outputs": [
    {
     "output_type": "execute_result",
     "data": {
      "text/plain": "   Jakarta  Bandung  Bekasi\n0    100.0    500.0     100\n1    200.0      1.0     200\n2      1.0      1.0     300\n3    400.0   1000.0     500",
      "text/html": "<div>\n<style scoped>\n    .dataframe tbody tr th:only-of-type {\n        vertical-align: middle;\n    }\n\n    .dataframe tbody tr th {\n        vertical-align: top;\n    }\n\n    .dataframe thead th {\n        text-align: right;\n    }\n</style>\n<table border=\"1\" class=\"dataframe\">\n  <thead>\n    <tr style=\"text-align: right;\">\n      <th></th>\n      <th>Jakarta</th>\n      <th>Bandung</th>\n      <th>Bekasi</th>\n    </tr>\n  </thead>\n  <tbody>\n    <tr>\n      <th>0</th>\n      <td>100.0</td>\n      <td>500.0</td>\n      <td>100</td>\n    </tr>\n    <tr>\n      <th>1</th>\n      <td>200.0</td>\n      <td>1.0</td>\n      <td>200</td>\n    </tr>\n    <tr>\n      <th>2</th>\n      <td>1.0</td>\n      <td>1.0</td>\n      <td>300</td>\n    </tr>\n    <tr>\n      <th>3</th>\n      <td>400.0</td>\n      <td>1000.0</td>\n      <td>500</td>\n    </tr>\n  </tbody>\n</table>\n</div>"
     },
     "metadata": {},
     "execution_count": 58
    }
   ],
   "source": [
    "df2.replace(['-','#'], [1,2])\n",
    "#mengganti >2 karaktek gunakan list value {2}"
   ]
  },
  {
   "cell_type": "markdown",
   "metadata": {},
   "source": [
    "# Groupby"
   ]
  },
  {
   "cell_type": "code",
   "execution_count": 59,
   "metadata": {},
   "outputs": [
    {
     "output_type": "execute_result",
     "data": {
      "text/plain": "  Perusahaan Karyawan  Penjualan\n0       Ayam     Andi        300\n1       Ayam     Budi        200\n2        Mie     Caca        100\n3        Mie     Deni        500\n4      Pizza      Edi        600\n5      Pizza    Ferdi        450",
      "text/html": "<div>\n<style scoped>\n    .dataframe tbody tr th:only-of-type {\n        vertical-align: middle;\n    }\n\n    .dataframe tbody tr th {\n        vertical-align: top;\n    }\n\n    .dataframe thead th {\n        text-align: right;\n    }\n</style>\n<table border=\"1\" class=\"dataframe\">\n  <thead>\n    <tr style=\"text-align: right;\">\n      <th></th>\n      <th>Perusahaan</th>\n      <th>Karyawan</th>\n      <th>Penjualan</th>\n    </tr>\n  </thead>\n  <tbody>\n    <tr>\n      <th>0</th>\n      <td>Ayam</td>\n      <td>Andi</td>\n      <td>300</td>\n    </tr>\n    <tr>\n      <th>1</th>\n      <td>Ayam</td>\n      <td>Budi</td>\n      <td>200</td>\n    </tr>\n    <tr>\n      <th>2</th>\n      <td>Mie</td>\n      <td>Caca</td>\n      <td>100</td>\n    </tr>\n    <tr>\n      <th>3</th>\n      <td>Mie</td>\n      <td>Deni</td>\n      <td>500</td>\n    </tr>\n    <tr>\n      <th>4</th>\n      <td>Pizza</td>\n      <td>Edi</td>\n      <td>600</td>\n    </tr>\n    <tr>\n      <th>5</th>\n      <td>Pizza</td>\n      <td>Ferdi</td>\n      <td>450</td>\n    </tr>\n  </tbody>\n</table>\n</div>"
     },
     "metadata": {},
     "execution_count": 59
    }
   ],
   "source": [
    "data = {\n",
    "    'Perusahaan' : ['Ayam', 'Ayam', 'Mie', 'Mie', 'Pizza', 'Pizza'],\n",
    "    'Karyawan' : ['Andi', 'Budi', 'Caca', 'Deni', 'Edi', 'Ferdi'],\n",
    "    'Penjualan': [300, 200, 100, 500, 600, 450]\n",
    "}\n",
    "perusahaan=pd.DataFrame(data)\n",
    "perusahaan"
   ]
  },
  {
   "cell_type": "code",
   "execution_count": 60,
   "metadata": {},
   "outputs": [],
   "source": [
    "company = perusahaan.groupby('Perusahaan')"
   ]
  },
  {
   "cell_type": "code",
   "execution_count": 61,
   "metadata": {},
   "outputs": [
    {
     "output_type": "execute_result",
     "data": {
      "text/plain": "            Penjualan\nPerusahaan           \nAyam              250\nMie               300\nPizza             525",
      "text/html": "<div>\n<style scoped>\n    .dataframe tbody tr th:only-of-type {\n        vertical-align: middle;\n    }\n\n    .dataframe tbody tr th {\n        vertical-align: top;\n    }\n\n    .dataframe thead th {\n        text-align: right;\n    }\n</style>\n<table border=\"1\" class=\"dataframe\">\n  <thead>\n    <tr style=\"text-align: right;\">\n      <th></th>\n      <th>Penjualan</th>\n    </tr>\n    <tr>\n      <th>Perusahaan</th>\n      <th></th>\n    </tr>\n  </thead>\n  <tbody>\n    <tr>\n      <th>Ayam</th>\n      <td>250</td>\n    </tr>\n    <tr>\n      <th>Mie</th>\n      <td>300</td>\n    </tr>\n    <tr>\n      <th>Pizza</th>\n      <td>525</td>\n    </tr>\n  </tbody>\n</table>\n</div>"
     },
     "metadata": {},
     "execution_count": 61
    }
   ],
   "source": [
    "company.mean()"
   ]
  },
  {
   "cell_type": "code",
   "execution_count": 62,
   "metadata": {},
   "outputs": [
    {
     "output_type": "execute_result",
     "data": {
      "text/plain": "  Perusahaan Karyawan  Penjualan\n0       Ayam     Andi        300\n1       Ayam     Budi        200",
      "text/html": "<div>\n<style scoped>\n    .dataframe tbody tr th:only-of-type {\n        vertical-align: middle;\n    }\n\n    .dataframe tbody tr th {\n        vertical-align: top;\n    }\n\n    .dataframe thead th {\n        text-align: right;\n    }\n</style>\n<table border=\"1\" class=\"dataframe\">\n  <thead>\n    <tr style=\"text-align: right;\">\n      <th></th>\n      <th>Perusahaan</th>\n      <th>Karyawan</th>\n      <th>Penjualan</th>\n    </tr>\n  </thead>\n  <tbody>\n    <tr>\n      <th>0</th>\n      <td>Ayam</td>\n      <td>Andi</td>\n      <td>300</td>\n    </tr>\n    <tr>\n      <th>1</th>\n      <td>Ayam</td>\n      <td>Budi</td>\n      <td>200</td>\n    </tr>\n  </tbody>\n</table>\n</div>"
     },
     "metadata": {},
     "execution_count": 62
    }
   ],
   "source": [
    "company.get_group('Ayam')"
   ]
  },
  {
   "cell_type": "code",
   "execution_count": 63,
   "metadata": {},
   "outputs": [
    {
     "output_type": "execute_result",
     "data": {
      "text/plain": "{'Ayam': Int64Index([0, 1], dtype='int64'),\n 'Mie': Int64Index([2, 3], dtype='int64'),\n 'Pizza': Int64Index([4, 5], dtype='int64')}"
     },
     "metadata": {},
     "execution_count": 63
    }
   ],
   "source": [
    "company.groups"
   ]
  },
  {
   "cell_type": "markdown",
   "metadata": {},
   "source": [
    "### Akhir Batas Groupby"
   ]
  },
  {
   "cell_type": "code",
   "execution_count": 64,
   "metadata": {},
   "outputs": [
    {
     "output_type": "execute_result",
     "data": {
      "text/plain": "   nama  fisika  biologi\n0  andi      90       78\n1  andi      95       80\n2  andi      92       82\n3  budi      90       95\n4  budi      88       88\n5  budi      80       80",
      "text/html": "<div>\n<style scoped>\n    .dataframe tbody tr th:only-of-type {\n        vertical-align: middle;\n    }\n\n    .dataframe tbody tr th {\n        vertical-align: top;\n    }\n\n    .dataframe thead th {\n        text-align: right;\n    }\n</style>\n<table border=\"1\" class=\"dataframe\">\n  <thead>\n    <tr style=\"text-align: right;\">\n      <th></th>\n      <th>nama</th>\n      <th>fisika</th>\n      <th>biologi</th>\n    </tr>\n  </thead>\n  <tbody>\n    <tr>\n      <th>0</th>\n      <td>andi</td>\n      <td>90</td>\n      <td>78</td>\n    </tr>\n    <tr>\n      <th>1</th>\n      <td>andi</td>\n      <td>95</td>\n      <td>80</td>\n    </tr>\n    <tr>\n      <th>2</th>\n      <td>andi</td>\n      <td>92</td>\n      <td>82</td>\n    </tr>\n    <tr>\n      <th>3</th>\n      <td>budi</td>\n      <td>90</td>\n      <td>95</td>\n    </tr>\n    <tr>\n      <th>4</th>\n      <td>budi</td>\n      <td>88</td>\n      <td>88</td>\n    </tr>\n    <tr>\n      <th>5</th>\n      <td>budi</td>\n      <td>80</td>\n      <td>80</td>\n    </tr>\n  </tbody>\n</table>\n</div>"
     },
     "metadata": {},
     "execution_count": 64
    }
   ],
   "source": [
    "test_score=pd.DataFrame({'nama':' andi andi andi budi budi budi'.split(),'fisika': [90,95,92,90,88,80],'biologi': [78,80,82,95,88,80]})\n",
    "test_score"
   ]
  },
  {
   "cell_type": "code",
   "execution_count": 65,
   "metadata": {},
   "outputs": [
    {
     "output_type": "execute_result",
     "data": {
      "text/plain": "         fisika    biologi\nnama                      \nandi  92.333333  80.000000\nbudi  86.000000  87.666667",
      "text/html": "<div>\n<style scoped>\n    .dataframe tbody tr th:only-of-type {\n        vertical-align: middle;\n    }\n\n    .dataframe tbody tr th {\n        vertical-align: top;\n    }\n\n    .dataframe thead th {\n        text-align: right;\n    }\n</style>\n<table border=\"1\" class=\"dataframe\">\n  <thead>\n    <tr style=\"text-align: right;\">\n      <th></th>\n      <th>fisika</th>\n      <th>biologi</th>\n    </tr>\n    <tr>\n      <th>nama</th>\n      <th></th>\n      <th></th>\n    </tr>\n  </thead>\n  <tbody>\n    <tr>\n      <th>andi</th>\n      <td>92.333333</td>\n      <td>80.000000</td>\n    </tr>\n    <tr>\n      <th>budi</th>\n      <td>86.000000</td>\n      <td>87.666667</td>\n    </tr>\n  </tbody>\n</table>\n</div>"
     },
     "metadata": {},
     "execution_count": 65
    }
   ],
   "source": [
    "byName= test_score.groupby('nama')\n",
    "byName.mean()"
   ]
  },
  {
   "cell_type": "code",
   "execution_count": 66,
   "metadata": {},
   "outputs": [
    {
     "output_type": "execute_result",
     "data": {
      "text/plain": "      fisika  biologi\nnama                 \nandi      92       80\nbudi      88       88",
      "text/html": "<div>\n<style scoped>\n    .dataframe tbody tr th:only-of-type {\n        vertical-align: middle;\n    }\n\n    .dataframe tbody tr th {\n        vertical-align: top;\n    }\n\n    .dataframe thead th {\n        text-align: right;\n    }\n</style>\n<table border=\"1\" class=\"dataframe\">\n  <thead>\n    <tr style=\"text-align: right;\">\n      <th></th>\n      <th>fisika</th>\n      <th>biologi</th>\n    </tr>\n    <tr>\n      <th>nama</th>\n      <th></th>\n      <th></th>\n    </tr>\n  </thead>\n  <tbody>\n    <tr>\n      <th>andi</th>\n      <td>92</td>\n      <td>80</td>\n    </tr>\n    <tr>\n      <th>budi</th>\n      <td>88</td>\n      <td>88</td>\n    </tr>\n  </tbody>\n</table>\n</div>"
     },
     "metadata": {},
     "execution_count": 66
    }
   ],
   "source": [
    "byName.median()"
   ]
  },
  {
   "cell_type": "code",
   "execution_count": 67,
   "metadata": {},
   "outputs": [
    {
     "output_type": "execute_result",
     "data": {
      "text/plain": "        fisika   biologi\nnama                    \nandi  2.516611  2.000000\nbudi  5.291503  7.505553",
      "text/html": "<div>\n<style scoped>\n    .dataframe tbody tr th:only-of-type {\n        vertical-align: middle;\n    }\n\n    .dataframe tbody tr th {\n        vertical-align: top;\n    }\n\n    .dataframe thead th {\n        text-align: right;\n    }\n</style>\n<table border=\"1\" class=\"dataframe\">\n  <thead>\n    <tr style=\"text-align: right;\">\n      <th></th>\n      <th>fisika</th>\n      <th>biologi</th>\n    </tr>\n    <tr>\n      <th>nama</th>\n      <th></th>\n      <th></th>\n    </tr>\n  </thead>\n  <tbody>\n    <tr>\n      <th>andi</th>\n      <td>2.516611</td>\n      <td>2.000000</td>\n    </tr>\n    <tr>\n      <th>budi</th>\n      <td>5.291503</td>\n      <td>7.505553</td>\n    </tr>\n  </tbody>\n</table>\n</div>"
     },
     "metadata": {},
     "execution_count": 67
    }
   ],
   "source": [
    "byName.std()"
   ]
  },
  {
   "cell_type": "code",
   "execution_count": 68,
   "metadata": {},
   "outputs": [
    {
     "output_type": "execute_result",
     "data": {
      "text/plain": "0    90\n1    95\n2    92\nName: fisika, dtype: int64"
     },
     "metadata": {},
     "execution_count": 68
    }
   ],
   "source": [
    "byName.get_group('andi')['fisika']"
   ]
  },
  {
   "cell_type": "code",
   "execution_count": 69,
   "metadata": {},
   "outputs": [
    {
     "output_type": "execute_result",
     "data": {
      "text/plain": "nama       budi\nfisika       90\nbiologi      95\ndtype: object"
     },
     "metadata": {},
     "execution_count": 69
    }
   ],
   "source": [
    "byName.get_group('budi').max()"
   ]
  },
  {
   "cell_type": "code",
   "execution_count": 70,
   "metadata": {},
   "outputs": [
    {
     "output_type": "execute_result",
     "data": {
      "text/plain": "fisika     89.166667\nbiologi    83.833333\ndtype: float64"
     },
     "metadata": {},
     "execution_count": 70
    }
   ],
   "source": [
    "test_score.mean()"
   ]
  },
  {
   "cell_type": "markdown",
   "metadata": {},
   "source": [
    "# Concat"
   ]
  },
  {
   "cell_type": "code",
   "execution_count": 71,
   "metadata": {},
   "outputs": [
    {
     "output_type": "execute_result",
     "data": {
      "text/plain": "   nama  math  biologi\n0  didi    90       78\n1  euis    95       80\n2  fafa    92       85\n3  didi    90       95\n4  euis    88       98\n5  fafa    80       90",
      "text/html": "<div>\n<style scoped>\n    .dataframe tbody tr th:only-of-type {\n        vertical-align: middle;\n    }\n\n    .dataframe tbody tr th {\n        vertical-align: top;\n    }\n\n    .dataframe thead th {\n        text-align: right;\n    }\n</style>\n<table border=\"1\" class=\"dataframe\">\n  <thead>\n    <tr style=\"text-align: right;\">\n      <th></th>\n      <th>nama</th>\n      <th>math</th>\n      <th>biologi</th>\n    </tr>\n  </thead>\n  <tbody>\n    <tr>\n      <th>0</th>\n      <td>didi</td>\n      <td>90</td>\n      <td>78</td>\n    </tr>\n    <tr>\n      <th>1</th>\n      <td>euis</td>\n      <td>95</td>\n      <td>80</td>\n    </tr>\n    <tr>\n      <th>2</th>\n      <td>fafa</td>\n      <td>92</td>\n      <td>85</td>\n    </tr>\n    <tr>\n      <th>3</th>\n      <td>didi</td>\n      <td>90</td>\n      <td>95</td>\n    </tr>\n    <tr>\n      <th>4</th>\n      <td>euis</td>\n      <td>88</td>\n      <td>98</td>\n    </tr>\n    <tr>\n      <th>5</th>\n      <td>fafa</td>\n      <td>80</td>\n      <td>90</td>\n    </tr>\n  </tbody>\n</table>\n</div>"
     },
     "metadata": {},
     "execution_count": 71
    }
   ],
   "source": [
    "test_score2 = pd.DataFrame({'nama': 'didi euis fafa didi euis fafa'.split(),\n",
    "'math':[90,95,92,90,88,80], 'biologi':[78,80,85,95,98,90]})\n",
    "test_score2"
   ]
  },
  {
   "cell_type": "code",
   "execution_count": 72,
   "metadata": {},
   "outputs": [
    {
     "output_type": "execute_result",
     "data": {
      "text/plain": "    nama  fisika  biologi  math\n0   andi    90.0       78   NaN\n1   andi    95.0       80   NaN\n2   andi    92.0       82   NaN\n3   budi    90.0       95   NaN\n4   budi    88.0       88   NaN\n5   budi    80.0       80   NaN\n6   didi     NaN       78  90.0\n7   euis     NaN       80  95.0\n8   fafa     NaN       85  92.0\n9   didi     NaN       95  90.0\n10  euis     NaN       98  88.0\n11  fafa     NaN       90  80.0",
      "text/html": "<div>\n<style scoped>\n    .dataframe tbody tr th:only-of-type {\n        vertical-align: middle;\n    }\n\n    .dataframe tbody tr th {\n        vertical-align: top;\n    }\n\n    .dataframe thead th {\n        text-align: right;\n    }\n</style>\n<table border=\"1\" class=\"dataframe\">\n  <thead>\n    <tr style=\"text-align: right;\">\n      <th></th>\n      <th>nama</th>\n      <th>fisika</th>\n      <th>biologi</th>\n      <th>math</th>\n    </tr>\n  </thead>\n  <tbody>\n    <tr>\n      <th>0</th>\n      <td>andi</td>\n      <td>90.0</td>\n      <td>78</td>\n      <td>NaN</td>\n    </tr>\n    <tr>\n      <th>1</th>\n      <td>andi</td>\n      <td>95.0</td>\n      <td>80</td>\n      <td>NaN</td>\n    </tr>\n    <tr>\n      <th>2</th>\n      <td>andi</td>\n      <td>92.0</td>\n      <td>82</td>\n      <td>NaN</td>\n    </tr>\n    <tr>\n      <th>3</th>\n      <td>budi</td>\n      <td>90.0</td>\n      <td>95</td>\n      <td>NaN</td>\n    </tr>\n    <tr>\n      <th>4</th>\n      <td>budi</td>\n      <td>88.0</td>\n      <td>88</td>\n      <td>NaN</td>\n    </tr>\n    <tr>\n      <th>5</th>\n      <td>budi</td>\n      <td>80.0</td>\n      <td>80</td>\n      <td>NaN</td>\n    </tr>\n    <tr>\n      <th>6</th>\n      <td>didi</td>\n      <td>NaN</td>\n      <td>78</td>\n      <td>90.0</td>\n    </tr>\n    <tr>\n      <th>7</th>\n      <td>euis</td>\n      <td>NaN</td>\n      <td>80</td>\n      <td>95.0</td>\n    </tr>\n    <tr>\n      <th>8</th>\n      <td>fafa</td>\n      <td>NaN</td>\n      <td>85</td>\n      <td>92.0</td>\n    </tr>\n    <tr>\n      <th>9</th>\n      <td>didi</td>\n      <td>NaN</td>\n      <td>95</td>\n      <td>90.0</td>\n    </tr>\n    <tr>\n      <th>10</th>\n      <td>euis</td>\n      <td>NaN</td>\n      <td>98</td>\n      <td>88.0</td>\n    </tr>\n    <tr>\n      <th>11</th>\n      <td>fafa</td>\n      <td>NaN</td>\n      <td>90</td>\n      <td>80.0</td>\n    </tr>\n  </tbody>\n</table>\n</div>"
     },
     "metadata": {},
     "execution_count": 72
    }
   ],
   "source": [
    "pd.concat([test_score,test_score2], ignore_index=True)\n",
    "#ignore index agar index tidak berulang"
   ]
  },
  {
   "cell_type": "code",
   "execution_count": 73,
   "metadata": {},
   "outputs": [
    {
     "output_type": "execute_result",
     "data": {
      "text/plain": "   nama  fisika  biologi  nama  math  biologi\n0  andi      90       78  didi    90       78\n1  andi      95       80  euis    95       80\n2  andi      92       82  fafa    92       85\n3  budi      90       95  didi    90       95\n4  budi      88       88  euis    88       98\n5  budi      80       80  fafa    80       90",
      "text/html": "<div>\n<style scoped>\n    .dataframe tbody tr th:only-of-type {\n        vertical-align: middle;\n    }\n\n    .dataframe tbody tr th {\n        vertical-align: top;\n    }\n\n    .dataframe thead th {\n        text-align: right;\n    }\n</style>\n<table border=\"1\" class=\"dataframe\">\n  <thead>\n    <tr style=\"text-align: right;\">\n      <th></th>\n      <th>nama</th>\n      <th>fisika</th>\n      <th>biologi</th>\n      <th>nama</th>\n      <th>math</th>\n      <th>biologi</th>\n    </tr>\n  </thead>\n  <tbody>\n    <tr>\n      <th>0</th>\n      <td>andi</td>\n      <td>90</td>\n      <td>78</td>\n      <td>didi</td>\n      <td>90</td>\n      <td>78</td>\n    </tr>\n    <tr>\n      <th>1</th>\n      <td>andi</td>\n      <td>95</td>\n      <td>80</td>\n      <td>euis</td>\n      <td>95</td>\n      <td>80</td>\n    </tr>\n    <tr>\n      <th>2</th>\n      <td>andi</td>\n      <td>92</td>\n      <td>82</td>\n      <td>fafa</td>\n      <td>92</td>\n      <td>85</td>\n    </tr>\n    <tr>\n      <th>3</th>\n      <td>budi</td>\n      <td>90</td>\n      <td>95</td>\n      <td>didi</td>\n      <td>90</td>\n      <td>95</td>\n    </tr>\n    <tr>\n      <th>4</th>\n      <td>budi</td>\n      <td>88</td>\n      <td>88</td>\n      <td>euis</td>\n      <td>88</td>\n      <td>98</td>\n    </tr>\n    <tr>\n      <th>5</th>\n      <td>budi</td>\n      <td>80</td>\n      <td>80</td>\n      <td>fafa</td>\n      <td>80</td>\n      <td>90</td>\n    </tr>\n  </tbody>\n</table>\n</div>"
     },
     "metadata": {},
     "execution_count": 73
    }
   ],
   "source": [
    "pd.concat([test_score,test_score2], axis=1)"
   ]
  },
  {
   "cell_type": "code",
   "execution_count": 74,
   "metadata": {},
   "outputs": [
    {
     "output_type": "execute_result",
     "data": {
      "text/plain": "   nama  fisika  biologi  nama  math  biologi\n0  andi      90       78  didi    90       78\n1  andi      95       80  euis    95       80\n2  andi      92       82  fafa    92       85\n3  budi      90       95  didi    90       95\n4  budi      88       88  euis    88       98\n5  budi      80       80  fafa    80       90",
      "text/html": "<div>\n<style scoped>\n    .dataframe tbody tr th:only-of-type {\n        vertical-align: middle;\n    }\n\n    .dataframe tbody tr th {\n        vertical-align: top;\n    }\n\n    .dataframe thead th {\n        text-align: right;\n    }\n</style>\n<table border=\"1\" class=\"dataframe\">\n  <thead>\n    <tr style=\"text-align: right;\">\n      <th></th>\n      <th>nama</th>\n      <th>fisika</th>\n      <th>biologi</th>\n      <th>nama</th>\n      <th>math</th>\n      <th>biologi</th>\n    </tr>\n  </thead>\n  <tbody>\n    <tr>\n      <th>0</th>\n      <td>andi</td>\n      <td>90</td>\n      <td>78</td>\n      <td>didi</td>\n      <td>90</td>\n      <td>78</td>\n    </tr>\n    <tr>\n      <th>1</th>\n      <td>andi</td>\n      <td>95</td>\n      <td>80</td>\n      <td>euis</td>\n      <td>95</td>\n      <td>80</td>\n    </tr>\n    <tr>\n      <th>2</th>\n      <td>andi</td>\n      <td>92</td>\n      <td>82</td>\n      <td>fafa</td>\n      <td>92</td>\n      <td>85</td>\n    </tr>\n    <tr>\n      <th>3</th>\n      <td>budi</td>\n      <td>90</td>\n      <td>95</td>\n      <td>didi</td>\n      <td>90</td>\n      <td>95</td>\n    </tr>\n    <tr>\n      <th>4</th>\n      <td>budi</td>\n      <td>88</td>\n      <td>88</td>\n      <td>euis</td>\n      <td>88</td>\n      <td>98</td>\n    </tr>\n    <tr>\n      <th>5</th>\n      <td>budi</td>\n      <td>80</td>\n      <td>80</td>\n      <td>fafa</td>\n      <td>80</td>\n      <td>90</td>\n    </tr>\n  </tbody>\n</table>\n</div>"
     },
     "metadata": {},
     "execution_count": 74
    }
   ],
   "source": [
    "pd.concat([test_score,test_score2], axis=1,join='inner')"
   ]
  },
  {
   "cell_type": "markdown",
   "metadata": {},
   "source": [
    "# Merge"
   ]
  },
  {
   "cell_type": "code",
   "execution_count": 77,
   "metadata": {},
   "outputs": [],
   "source": [
    "kiri = pd.DataFrame({\n",
    "    'kunci' : ['A', 'B', 'C', 'D'],\n",
    "    'Jakarta': [1, 2, 3, 4],\n",
    "    'BSD': [5, 6, 7, 8]\n",
    "})\n",
    "\n",
    "kanan = pd.DataFrame({\n",
    "    'kunci' : ['A', 'B', 'C', 'D'],\n",
    "    'Bekasi': [1, 2, 3, 4],\n",
    "    'Bandung': [5, 6, 7, 8]\n",
    "})\n"
   ]
  },
  {
   "cell_type": "code",
   "execution_count": 79,
   "metadata": {},
   "outputs": [
    {
     "output_type": "execute_result",
     "data": {
      "text/plain": "  kunci  Jakarta  BSD  Bekasi  Bandung\n0     A        1    5       1        5\n1     B        2    6       2        6\n2     C        3    7       3        7\n3     D        4    8       4        8",
      "text/html": "<div>\n<style scoped>\n    .dataframe tbody tr th:only-of-type {\n        vertical-align: middle;\n    }\n\n    .dataframe tbody tr th {\n        vertical-align: top;\n    }\n\n    .dataframe thead th {\n        text-align: right;\n    }\n</style>\n<table border=\"1\" class=\"dataframe\">\n  <thead>\n    <tr style=\"text-align: right;\">\n      <th></th>\n      <th>kunci</th>\n      <th>Jakarta</th>\n      <th>BSD</th>\n      <th>Bekasi</th>\n      <th>Bandung</th>\n    </tr>\n  </thead>\n  <tbody>\n    <tr>\n      <th>0</th>\n      <td>A</td>\n      <td>1</td>\n      <td>5</td>\n      <td>1</td>\n      <td>5</td>\n    </tr>\n    <tr>\n      <th>1</th>\n      <td>B</td>\n      <td>2</td>\n      <td>6</td>\n      <td>2</td>\n      <td>6</td>\n    </tr>\n    <tr>\n      <th>2</th>\n      <td>C</td>\n      <td>3</td>\n      <td>7</td>\n      <td>3</td>\n      <td>7</td>\n    </tr>\n    <tr>\n      <th>3</th>\n      <td>D</td>\n      <td>4</td>\n      <td>8</td>\n      <td>4</td>\n      <td>8</td>\n    </tr>\n  </tbody>\n</table>\n</div>"
     },
     "metadata": {},
     "execution_count": 79
    }
   ],
   "source": [
    "pd.merge(kiri,kanan,how='inner',on='kunci')"
   ]
  },
  {
   "cell_type": "markdown",
   "metadata": {},
   "source": [
    "# Join"
   ]
  },
  {
   "cell_type": "code",
   "execution_count": 80,
   "metadata": {},
   "outputs": [],
   "source": [
    "Budi = pd.DataFrame({'A': ['A0', 'A1', 'A2'],\n",
    "                     'B': ['B0', 'B1', 'B2']},\n",
    "                   index = ['K0', 'K1', 'K2'])\n",
    "\n",
    "Andi = pd.DataFrame({'C': ['C0', 'C2', 'C3'],\n",
    "                     'D': ['D0', 'D2', 'D3']},\n",
    "                   index = ['K0', 'K2', 'K3'])\n"
   ]
  },
  {
   "cell_type": "code",
   "execution_count": 82,
   "metadata": {},
   "outputs": [
    {
     "output_type": "execute_result",
     "data": {
      "text/plain": "     A   B    C    D\nK0  A0  B0   C0   D0\nK1  A1  B1  NaN  NaN\nK2  A2  B2   C2   D2",
      "text/html": "<div>\n<style scoped>\n    .dataframe tbody tr th:only-of-type {\n        vertical-align: middle;\n    }\n\n    .dataframe tbody tr th {\n        vertical-align: top;\n    }\n\n    .dataframe thead th {\n        text-align: right;\n    }\n</style>\n<table border=\"1\" class=\"dataframe\">\n  <thead>\n    <tr style=\"text-align: right;\">\n      <th></th>\n      <th>A</th>\n      <th>B</th>\n      <th>C</th>\n      <th>D</th>\n    </tr>\n  </thead>\n  <tbody>\n    <tr>\n      <th>K0</th>\n      <td>A0</td>\n      <td>B0</td>\n      <td>C0</td>\n      <td>D0</td>\n    </tr>\n    <tr>\n      <th>K1</th>\n      <td>A1</td>\n      <td>B1</td>\n      <td>NaN</td>\n      <td>NaN</td>\n    </tr>\n    <tr>\n      <th>K2</th>\n      <td>A2</td>\n      <td>B2</td>\n      <td>C2</td>\n      <td>D2</td>\n    </tr>\n  </tbody>\n</table>\n</div>"
     },
     "metadata": {},
     "execution_count": 82
    }
   ],
   "source": [
    "Budi.join(Andi)"
   ]
  },
  {
   "cell_type": "markdown",
   "metadata": {},
   "source": [
    "# Pivot"
   ]
  },
  {
   "cell_type": "code",
   "execution_count": 83,
   "metadata": {},
   "outputs": [
    {
     "output_type": "execute_result",
     "data": {
      "text/plain": "   test  nama  fisika  biologi\n0     1  Andi      90       78\n1     2  Andi      95       80\n2     3  Andi      90       82\n3     1  Budi      80       80\n4     2  Budi      85       89\n5     3  Budi      72       75",
      "text/html": "<div>\n<style scoped>\n    .dataframe tbody tr th:only-of-type {\n        vertical-align: middle;\n    }\n\n    .dataframe tbody tr th {\n        vertical-align: top;\n    }\n\n    .dataframe thead th {\n        text-align: right;\n    }\n</style>\n<table border=\"1\" class=\"dataframe\">\n  <thead>\n    <tr style=\"text-align: right;\">\n      <th></th>\n      <th>test</th>\n      <th>nama</th>\n      <th>fisika</th>\n      <th>biologi</th>\n    </tr>\n  </thead>\n  <tbody>\n    <tr>\n      <th>0</th>\n      <td>1</td>\n      <td>Andi</td>\n      <td>90</td>\n      <td>78</td>\n    </tr>\n    <tr>\n      <th>1</th>\n      <td>2</td>\n      <td>Andi</td>\n      <td>95</td>\n      <td>80</td>\n    </tr>\n    <tr>\n      <th>2</th>\n      <td>3</td>\n      <td>Andi</td>\n      <td>90</td>\n      <td>82</td>\n    </tr>\n    <tr>\n      <th>3</th>\n      <td>1</td>\n      <td>Budi</td>\n      <td>80</td>\n      <td>80</td>\n    </tr>\n    <tr>\n      <th>4</th>\n      <td>2</td>\n      <td>Budi</td>\n      <td>85</td>\n      <td>89</td>\n    </tr>\n    <tr>\n      <th>5</th>\n      <td>3</td>\n      <td>Budi</td>\n      <td>72</td>\n      <td>75</td>\n    </tr>\n  </tbody>\n</table>\n</div>"
     },
     "metadata": {},
     "execution_count": 83
    }
   ],
   "source": [
    "df_dummy = pd.DataFrame([\n",
    "    {'test':1, 'nama':'Andi', 'fisika':90, 'biologi':78},\n",
    "    {'test':2, 'nama':'Andi', 'fisika':95, 'biologi':80},\n",
    "    {'test':3, 'nama':'Andi', 'fisika':90, 'biologi':82},\n",
    "    {'test':1, 'nama':'Budi', 'fisika':80, 'biologi':80},\n",
    "    {'test':2, 'nama':'Budi', 'fisika':85, 'biologi':89},\n",
    "    {'test':3, 'nama':'Budi', 'fisika':72, 'biologi':75},])\n",
    "df_dummy"
   ]
  },
  {
   "cell_type": "code",
   "execution_count": 127,
   "metadata": {},
   "outputs": [
    {
     "output_type": "execute_result",
     "data": {
      "text/plain": "     fisika      biologi     \nnama   Andi Budi    Andi Budi\ntest                         \n1        90   80      78   80\n2        95   85      80   89\n3        90   72      82   75",
      "text/html": "<div>\n<style scoped>\n    .dataframe tbody tr th:only-of-type {\n        vertical-align: middle;\n    }\n\n    .dataframe tbody tr th {\n        vertical-align: top;\n    }\n\n    .dataframe thead tr th {\n        text-align: left;\n    }\n\n    .dataframe thead tr:last-of-type th {\n        text-align: right;\n    }\n</style>\n<table border=\"1\" class=\"dataframe\">\n  <thead>\n    <tr>\n      <th></th>\n      <th colspan=\"2\" halign=\"left\">fisika</th>\n      <th colspan=\"2\" halign=\"left\">biologi</th>\n    </tr>\n    <tr>\n      <th>nama</th>\n      <th>Andi</th>\n      <th>Budi</th>\n      <th>Andi</th>\n      <th>Budi</th>\n    </tr>\n    <tr>\n      <th>test</th>\n      <th></th>\n      <th></th>\n      <th></th>\n      <th></th>\n    </tr>\n  </thead>\n  <tbody>\n    <tr>\n      <th>1</th>\n      <td>90</td>\n      <td>80</td>\n      <td>78</td>\n      <td>80</td>\n    </tr>\n    <tr>\n      <th>2</th>\n      <td>95</td>\n      <td>85</td>\n      <td>80</td>\n      <td>89</td>\n    </tr>\n    <tr>\n      <th>3</th>\n      <td>90</td>\n      <td>72</td>\n      <td>82</td>\n      <td>75</td>\n    </tr>\n  </tbody>\n</table>\n</div>"
     },
     "metadata": {},
     "execution_count": 127
    }
   ],
   "source": [
    "df_dummy_pivot=df_dummy.pivot('test','nama')\n",
    "df_dummy_pivot"
   ]
  },
  {
   "cell_type": "code",
   "execution_count": 129,
   "metadata": {},
   "outputs": [
    {
     "output_type": "execute_result",
     "data": {
      "text/plain": "     fisika         biologi        \ntest      1   2   3       1   2   3\nnama                               \nAndi     90  95  90      78  80  82\nBudi     80  85  72      80  89  75",
      "text/html": "<div>\n<style scoped>\n    .dataframe tbody tr th:only-of-type {\n        vertical-align: middle;\n    }\n\n    .dataframe tbody tr th {\n        vertical-align: top;\n    }\n\n    .dataframe thead tr th {\n        text-align: left;\n    }\n\n    .dataframe thead tr:last-of-type th {\n        text-align: right;\n    }\n</style>\n<table border=\"1\" class=\"dataframe\">\n  <thead>\n    <tr>\n      <th></th>\n      <th colspan=\"3\" halign=\"left\">fisika</th>\n      <th colspan=\"3\" halign=\"left\">biologi</th>\n    </tr>\n    <tr>\n      <th>test</th>\n      <th>1</th>\n      <th>2</th>\n      <th>3</th>\n      <th>1</th>\n      <th>2</th>\n      <th>3</th>\n    </tr>\n    <tr>\n      <th>nama</th>\n      <th></th>\n      <th></th>\n      <th></th>\n      <th></th>\n      <th></th>\n      <th></th>\n    </tr>\n  </thead>\n  <tbody>\n    <tr>\n      <th>Andi</th>\n      <td>90</td>\n      <td>95</td>\n      <td>90</td>\n      <td>78</td>\n      <td>80</td>\n      <td>82</td>\n    </tr>\n    <tr>\n      <th>Budi</th>\n      <td>80</td>\n      <td>85</td>\n      <td>72</td>\n      <td>80</td>\n      <td>89</td>\n      <td>75</td>\n    </tr>\n  </tbody>\n</table>\n</div>"
     },
     "metadata": {},
     "execution_count": 129
    }
   ],
   "source": [
    "df_dummy_pivot2=df_dummy.pivot('nama','test')\n",
    "df_dummy_pivot2"
   ]
  }
 ],
 "metadata": {
  "kernelspec": {
   "display_name": "Python 3",
   "language": "python",
   "name": "python3"
  },
  "language_info": {
   "codemirror_mode": {
    "name": "ipython",
    "version": 3
   },
   "file_extension": ".py",
   "mimetype": "text/x-python",
   "name": "python",
   "nbconvert_exporter": "python",
   "pygments_lexer": "ipython3",
   "version": "3.7.7-final"
  }
 },
 "nbformat": 4,
 "nbformat_minor": 4
}